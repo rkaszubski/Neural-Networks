{
 "cells": [
  {
   "cell_type": "markdown",
   "metadata": {
    "id": "jP5POMoP3FV5"
   },
   "source": [
    "Robert Kaszubski\n",
    "CSC 578 - FInal Project\n"
   ]
  },
  {
   "cell_type": "markdown",
   "metadata": {
    "id": "78MzlPWECYii"
   },
   "source": [
    "Note: Some of the runtimes may differ from what is reported in my documentation. I reran the whole notebook prior to submission and ran out of GPU runtime on google colab, so the run times will be longer in most cases but results should be similar"
   ]
  },
  {
   "cell_type": "markdown",
   "metadata": {
    "id": "2Ix9qrrQClca"
   },
   "source": [
    "I organized everything in sections so it should all be very clear!"
   ]
  },
  {
   "cell_type": "code",
   "execution_count": 1,
   "metadata": {
    "id": "spsWJ1BC3AXM"
   },
   "outputs": [],
   "source": [
    "import os\n",
    "import datetime\n",
    "\n",
    "import IPython\n",
    "import IPython.display\n",
    "import matplotlib as mpl\n",
    "import matplotlib.pyplot as plt\n",
    "import numpy as np\n",
    "import pandas as pd\n",
    "import seaborn as sns\n",
    "import tensorflow as tf"
   ]
  },
  {
   "cell_type": "code",
   "execution_count": 2,
   "metadata": {
    "colab": {
     "base_uri": "https://localhost:8080/",
     "height": 35
    },
    "id": "XdJYZ04n3IQ3",
    "outputId": "bde52b0e-bd17-4c27-eced-c6bcf5b1408b"
   },
   "outputs": [
    {
     "data": {
      "application/vnd.google.colaboratory.intrinsic+json": {
       "type": "string"
      },
      "text/plain": [
       "'/content/sample_data/Metro_Interstate_reduced.csv'"
      ]
     },
     "execution_count": 2,
     "metadata": {},
     "output_type": "execute_result"
    }
   ],
   "source": [
    "#Import CSV - taken from assignment instructions\n",
    "csv_path = tf.keras.utils.get_file(\n",
    "    origin='https://reed.cs.depaul.edu/peterh/Essays/Metro_Interstate_reduced.csv',\n",
    "    fname='Metro_Interstate_reduced.csv',\n",
    "    cache_dir='/content', cache_subdir='sample_data')\n",
    "\n",
    "csv_path\n",
    "# should be '/content/sample_data/Metro_Interstate_reduced.csv'"
   ]
  },
  {
   "cell_type": "markdown",
   "metadata": {
    "id": "yyZRiFVd3Kac"
   },
   "source": [
    "# **EXPLORATORY DATA ANALYSIS**"
   ]
  },
  {
   "cell_type": "markdown",
   "metadata": {
    "id": "whBTX5NvSZM1"
   },
   "source": [
    "RK. The first step is to examine the variables and variable types in the dataset:"
   ]
  },
  {
   "cell_type": "code",
   "execution_count": 3,
   "metadata": {
    "colab": {
     "base_uri": "https://localhost:8080/",
     "height": 204
    },
    "id": "GOPDfZ1J3OE8",
    "outputId": "eb0dda48-72e6-4d1b-e6f6-0a48db1c4778"
   },
   "outputs": [
    {
     "data": {
      "text/html": [
       "<div>\n",
       "<style scoped>\n",
       "    .dataframe tbody tr th:only-of-type {\n",
       "        vertical-align: middle;\n",
       "    }\n",
       "\n",
       "    .dataframe tbody tr th {\n",
       "        vertical-align: top;\n",
       "    }\n",
       "\n",
       "    .dataframe thead th {\n",
       "        text-align: right;\n",
       "    }\n",
       "</style>\n",
       "<table border=\"1\" class=\"dataframe\">\n",
       "  <thead>\n",
       "    <tr style=\"text-align: right;\">\n",
       "      <th></th>\n",
       "      <th>holiday</th>\n",
       "      <th>temp</th>\n",
       "      <th>rain_1h</th>\n",
       "      <th>snow_1h</th>\n",
       "      <th>clouds_all</th>\n",
       "      <th>weather_main</th>\n",
       "      <th>weather_description</th>\n",
       "      <th>date_time</th>\n",
       "      <th>traffic_volume</th>\n",
       "    </tr>\n",
       "  </thead>\n",
       "  <tbody>\n",
       "    <tr>\n",
       "      <th>0</th>\n",
       "      <td>None</td>\n",
       "      <td>288.28</td>\n",
       "      <td>0.0</td>\n",
       "      <td>0.0</td>\n",
       "      <td>40</td>\n",
       "      <td>Clouds</td>\n",
       "      <td>scattered clouds</td>\n",
       "      <td>2012-10-02 09:00:00</td>\n",
       "      <td>5545</td>\n",
       "    </tr>\n",
       "    <tr>\n",
       "      <th>1</th>\n",
       "      <td>None</td>\n",
       "      <td>289.36</td>\n",
       "      <td>0.0</td>\n",
       "      <td>0.0</td>\n",
       "      <td>75</td>\n",
       "      <td>Clouds</td>\n",
       "      <td>broken clouds</td>\n",
       "      <td>2012-10-02 10:00:00</td>\n",
       "      <td>4516</td>\n",
       "    </tr>\n",
       "    <tr>\n",
       "      <th>2</th>\n",
       "      <td>None</td>\n",
       "      <td>289.58</td>\n",
       "      <td>0.0</td>\n",
       "      <td>0.0</td>\n",
       "      <td>90</td>\n",
       "      <td>Clouds</td>\n",
       "      <td>overcast clouds</td>\n",
       "      <td>2012-10-02 11:00:00</td>\n",
       "      <td>4767</td>\n",
       "    </tr>\n",
       "    <tr>\n",
       "      <th>3</th>\n",
       "      <td>None</td>\n",
       "      <td>290.13</td>\n",
       "      <td>0.0</td>\n",
       "      <td>0.0</td>\n",
       "      <td>90</td>\n",
       "      <td>Clouds</td>\n",
       "      <td>overcast clouds</td>\n",
       "      <td>2012-10-02 12:00:00</td>\n",
       "      <td>5026</td>\n",
       "    </tr>\n",
       "    <tr>\n",
       "      <th>4</th>\n",
       "      <td>None</td>\n",
       "      <td>291.14</td>\n",
       "      <td>0.0</td>\n",
       "      <td>0.0</td>\n",
       "      <td>75</td>\n",
       "      <td>Clouds</td>\n",
       "      <td>broken clouds</td>\n",
       "      <td>2012-10-02 13:00:00</td>\n",
       "      <td>4918</td>\n",
       "    </tr>\n",
       "  </tbody>\n",
       "</table>\n",
       "</div>"
      ],
      "text/plain": [
       "  holiday    temp  ...            date_time  traffic_volume\n",
       "0    None  288.28  ...  2012-10-02 09:00:00            5545\n",
       "1    None  289.36  ...  2012-10-02 10:00:00            4516\n",
       "2    None  289.58  ...  2012-10-02 11:00:00            4767\n",
       "3    None  290.13  ...  2012-10-02 12:00:00            5026\n",
       "4    None  291.14  ...  2012-10-02 13:00:00            4918\n",
       "\n",
       "[5 rows x 9 columns]"
      ]
     },
     "execution_count": 3,
     "metadata": {},
     "output_type": "execute_result"
    }
   ],
   "source": [
    "#RK\n",
    "df = pd.read_csv(csv_path)\n",
    "df.head()"
   ]
  },
  {
   "cell_type": "markdown",
   "metadata": {
    "id": "FQv_vOV43S8r"
   },
   "source": [
    "RK. The categorical variables: Holiday, Weather_Main, Weather Description will have to be transformed. I will be converting these into dummy variables or a one hot vector.\n",
    "\n",
    "The Date_Time object will also have to be transformed"
   ]
  },
  {
   "cell_type": "markdown",
   "metadata": {
    "id": "SqsBKUDXQszF"
   },
   "source": [
    "**Distribution of Numeric Variables**"
   ]
  },
  {
   "cell_type": "markdown",
   "metadata": {
    "id": "MG1XJIuYSj68"
   },
   "source": [
    "TF. Here is the evolution of a few features over time:"
   ]
  },
  {
   "cell_type": "code",
   "execution_count": 4,
   "metadata": {
    "colab": {
     "base_uri": "https://localhost:8080/",
     "height": 310
    },
    "id": "j4eGh_sXQwc3",
    "outputId": "ba2b371c-b235-4dfb-c7d5-27389802337e"
   },
   "outputs": [
    {
     "data": {
      "image/png": "[encoded data removed]",
      "text/plain": [
       "<Figure size 432x288 with 4 Axes>"
      ]
     },
     "metadata": {
      "needs_background": "light"
     },
     "output_type": "display_data"
    }
   ],
   "source": [
    "#FROM TF TUTORIAL - MODIFIED\n",
    "plot_cols = ['temp', 'rain_1h', 'snow_1h', 'clouds_all']\n",
    "plot_features = df[plot_cols]\n",
    "plot_features.index = df['date_time']\n",
    "_ = plot_features.plot(subplots=True)"
   ]
  },
  {
   "cell_type": "code",
   "execution_count": 5,
   "metadata": {
    "colab": {
     "base_uri": "https://localhost:8080/",
     "height": 204
    },
    "id": "r1LpOSvb3jbT",
    "outputId": "f7d8636f-c548-40cd-f027-62a283ab6c11"
   },
   "outputs": [
    {
     "data": {
      "text/html": [
       "<div>\n",
       "<style scoped>\n",
       "    .dataframe tbody tr th:only-of-type {\n",
       "        vertical-align: middle;\n",
       "    }\n",
       "\n",
       "    .dataframe tbody tr th {\n",
       "        vertical-align: top;\n",
       "    }\n",
       "\n",
       "    .dataframe thead th {\n",
       "        text-align: right;\n",
       "    }\n",
       "</style>\n",
       "<table border=\"1\" class=\"dataframe\">\n",
       "  <thead>\n",
       "    <tr style=\"text-align: right;\">\n",
       "      <th></th>\n",
       "      <th>count</th>\n",
       "      <th>mean</th>\n",
       "      <th>std</th>\n",
       "      <th>min</th>\n",
       "      <th>25%</th>\n",
       "      <th>50%</th>\n",
       "      <th>75%</th>\n",
       "      <th>max</th>\n",
       "    </tr>\n",
       "  </thead>\n",
       "  <tbody>\n",
       "    <tr>\n",
       "      <th>temp</th>\n",
       "      <td>40575.0</td>\n",
       "      <td>281.316763</td>\n",
       "      <td>13.816618</td>\n",
       "      <td>0.0</td>\n",
       "      <td>271.84</td>\n",
       "      <td>282.86</td>\n",
       "      <td>292.28</td>\n",
       "      <td>310.07</td>\n",
       "    </tr>\n",
       "    <tr>\n",
       "      <th>rain_1h</th>\n",
       "      <td>40575.0</td>\n",
       "      <td>0.318632</td>\n",
       "      <td>48.812640</td>\n",
       "      <td>0.0</td>\n",
       "      <td>0.00</td>\n",
       "      <td>0.00</td>\n",
       "      <td>0.00</td>\n",
       "      <td>9831.30</td>\n",
       "    </tr>\n",
       "    <tr>\n",
       "      <th>snow_1h</th>\n",
       "      <td>40575.0</td>\n",
       "      <td>0.000117</td>\n",
       "      <td>0.005676</td>\n",
       "      <td>0.0</td>\n",
       "      <td>0.00</td>\n",
       "      <td>0.00</td>\n",
       "      <td>0.00</td>\n",
       "      <td>0.51</td>\n",
       "    </tr>\n",
       "    <tr>\n",
       "      <th>clouds_all</th>\n",
       "      <td>40575.0</td>\n",
       "      <td>44.199162</td>\n",
       "      <td>38.683447</td>\n",
       "      <td>0.0</td>\n",
       "      <td>1.00</td>\n",
       "      <td>40.00</td>\n",
       "      <td>90.00</td>\n",
       "      <td>100.00</td>\n",
       "    </tr>\n",
       "    <tr>\n",
       "      <th>traffic_volume</th>\n",
       "      <td>40575.0</td>\n",
       "      <td>3290.650474</td>\n",
       "      <td>1984.772909</td>\n",
       "      <td>0.0</td>\n",
       "      <td>1248.50</td>\n",
       "      <td>3427.00</td>\n",
       "      <td>4952.00</td>\n",
       "      <td>7280.00</td>\n",
       "    </tr>\n",
       "  </tbody>\n",
       "</table>\n",
       "</div>"
      ],
      "text/plain": [
       "                  count         mean          std  ...      50%      75%      max\n",
       "temp            40575.0   281.316763    13.816618  ...   282.86   292.28   310.07\n",
       "rain_1h         40575.0     0.318632    48.812640  ...     0.00     0.00  9831.30\n",
       "snow_1h         40575.0     0.000117     0.005676  ...     0.00     0.00     0.51\n",
       "clouds_all      40575.0    44.199162    38.683447  ...    40.00    90.00   100.00\n",
       "traffic_volume  40575.0  3290.650474  1984.772909  ...  3427.00  4952.00  7280.00\n",
       "\n",
       "[5 rows x 8 columns]"
      ]
     },
     "execution_count": 5,
     "metadata": {},
     "output_type": "execute_result"
    }
   ],
   "source": [
    "df.describe().transpose()"
   ]
  },
  {
   "cell_type": "markdown",
   "metadata": {
    "id": "mXMFRq423mkr"
   },
   "source": [
    "RK. We can see a very large max value for rain_1h. It is impossible for it to rain almost 10,000 mm in an hour. We also see a min of 0 for temp, temp is in Kelvin, this figure is also not possible.\n",
    "\n",
    "Both of these will have to be fixed.\n",
    "\n",
    "We also get a good idea of how the data is distributed. We can see the statistical summary for each variable which is particularly imporant for numeric variables. For instance, we can see that the vast majority of hours have no rain or snow as the 75 percentile is still 0."
   ]
  },
  {
   "cell_type": "code",
   "execution_count": 6,
   "metadata": {
    "id": "F9FpIm-Y5ozj"
   },
   "outputs": [],
   "source": [
    "#rk\n",
    "#setting rain anomaly to 0:\n",
    "df.loc[df['rain_1h'] >= 400, 'rain_1h'] = 0"
   ]
  },
  {
   "cell_type": "code",
   "execution_count": 7,
   "metadata": {
    "id": "ZMxKNNQA6kSG"
   },
   "outputs": [],
   "source": [
    "#rk\n",
    "#setting temp anomaly to avg temp:\n",
    "df.loc[df['temp'] == 0, 'temp'] = 281.3"
   ]
  },
  {
   "cell_type": "markdown",
   "metadata": {
    "id": "OrNEUyhxSOpR"
   },
   "source": [
    "RK. Confirming the values were properly removed:"
   ]
  },
  {
   "cell_type": "code",
   "execution_count": 8,
   "metadata": {
    "colab": {
     "base_uri": "https://localhost:8080/",
     "height": 310
    },
    "id": "hxbOWxMySNWf",
    "outputId": "59c69849-88e8-465e-ef26-8d88e44afffd"
   },
   "outputs": [
    {
     "data": {
      "image/png": "[encoded data removed]",
      "text/plain": [
       "<Figure size 432x288 with 4 Axes>"
      ]
     },
     "metadata": {
      "needs_background": "light"
     },
     "output_type": "display_data"
    }
   ],
   "source": [
    "#FROM TF TUTORIAL - MODIFIED\n",
    "plot_cols = ['temp', 'rain_1h', 'snow_1h', 'clouds_all']\n",
    "plot_features = df[plot_cols]\n",
    "plot_features.index = df['date_time']\n",
    "_ = plot_features.plot(subplots=True)"
   ]
  },
  {
   "cell_type": "markdown",
   "metadata": {
    "id": "7ipIUBtzT7yb"
   },
   "source": [
    "**Histogram of Numeric Variables**"
   ]
  },
  {
   "cell_type": "markdown",
   "metadata": {
    "id": "J5Y5we6RT_M5"
   },
   "source": [
    "RK. The temperature distribution is almost symetric, it is very close to a normal distribution but perhaps slightly left skewed. Most days the temperature is fairly similar with a few days that were more extreme."
   ]
  },
  {
   "cell_type": "code",
   "execution_count": 9,
   "metadata": {
    "colab": {
     "base_uri": "https://localhost:8080/",
     "height": 281
    },
    "id": "zxBYAfmQUVnk",
    "outputId": "90e6555a-04b5-4505-b127-bf6cf18d0b2a"
   },
   "outputs": [
    {
     "data": {
      "image/png": "[encoded data removed]",
      "text/plain": [
       "<Figure size 432x288 with 1 Axes>"
      ]
     },
     "metadata": {
      "needs_background": "light"
     },
     "output_type": "display_data"
    }
   ],
   "source": [
    "hist = df.hist(column='temp')"
   ]
  },
  {
   "cell_type": "markdown",
   "metadata": {
    "id": "gsYywhIpUrJT"
   },
   "source": [
    "RK. The cloud distribution is insteresting as its typically either no clouds or 100% clouds with a few days falling in between."
   ]
  },
  {
   "cell_type": "code",
   "execution_count": 10,
   "metadata": {
    "colab": {
     "base_uri": "https://localhost:8080/",
     "height": 281
    },
    "id": "nHSoBomgTr86",
    "outputId": "5abf17ba-b368-490e-dfa1-64fcb583b3da"
   },
   "outputs": [
    {
     "data": {
      "image/png": "[encoded data removed]",
      "text/plain": [
       "<Figure size 432x288 with 1 Axes>"
      ]
     },
     "metadata": {
      "needs_background": "light"
     },
     "output_type": "display_data"
    }
   ],
   "source": [
    "hist = df.hist(column='clouds_all')"
   ]
  },
  {
   "cell_type": "markdown",
   "metadata": {
    "id": "eQiicqvUU0kD"
   },
   "source": [
    "RK. As far as rain and snow goes, most hours of the day have no snow or rain. It's fairly rare in this dataset."
   ]
  },
  {
   "cell_type": "code",
   "execution_count": 11,
   "metadata": {
    "colab": {
     "base_uri": "https://localhost:8080/",
     "height": 281
    },
    "id": "cXKWSK9ST1X7",
    "outputId": "86c6bbf7-b3c2-42b7-9dcc-82e6d70048bb"
   },
   "outputs": [
    {
     "data": {
      "image/png": "[encoded data removed]",
      "text/plain": [
       "<Figure size 432x288 with 1 Axes>"
      ]
     },
     "metadata": {
      "needs_background": "light"
     },
     "output_type": "display_data"
    }
   ],
   "source": [
    "hist = df.hist(column='rain_1h')"
   ]
  },
  {
   "cell_type": "code",
   "execution_count": 12,
   "metadata": {
    "colab": {
     "base_uri": "https://localhost:8080/",
     "height": 281
    },
    "id": "tXdlBpPwT3gM",
    "outputId": "1fd3eadc-d671-4210-daf0-4f058ad1c0d6"
   },
   "outputs": [
    {
     "data": {
      "image/png": "[encoded data removed]",
      "text/plain": [
       "<Figure size 432x288 with 1 Axes>"
      ]
     },
     "metadata": {
      "needs_background": "light"
     },
     "output_type": "display_data"
    }
   ],
   "source": [
    "hist = df.hist(column='snow_1h')"
   ]
  },
  {
   "cell_type": "markdown",
   "metadata": {
    "id": "XMKER7BF4BWs"
   },
   "source": [
    "RK Using the same steps as in the TF Tutorial, the Date Time variable is converted into time of day and time of year variables. This is an example of feature engineering."
   ]
  },
  {
   "cell_type": "markdown",
   "metadata": {
    "id": "AfbS7mpbS1_g"
   },
   "source": [
    "TF. You can get usable signals by using sine and cosine transforms to clear \"Time of day\" and \"Time of year\" signals"
   ]
  },
  {
   "cell_type": "code",
   "execution_count": 13,
   "metadata": {
    "id": "0LAs62Ks3x6h"
   },
   "outputs": [],
   "source": [
    "#FROM TF TUTORIAL\n",
    "date_time = pd.to_datetime(df.pop('date_time'), format='%Y.%m.%d %H:%M:%S')\n",
    "timestamp_s = date_time.map(pd.Timestamp.timestamp)\n",
    "day = 24*60*60\n",
    "year = (365.2425)*day\n",
    "\n",
    "df['Day sin'] = np.sin(timestamp_s * (2 * np.pi / day))\n",
    "df['Day cos'] = np.cos(timestamp_s * (2 * np.pi / day))\n",
    "df['Year sin'] = np.sin(timestamp_s * (2 * np.pi / year))\n",
    "df['Year cos'] = np.cos(timestamp_s * (2 * np.pi / year))"
   ]
  },
  {
   "cell_type": "markdown",
   "metadata": {
    "id": "J3JM5gNsRxua"
   },
   "source": [
    "RK Converting categorical variables to dummy variables (one hot encoding)"
   ]
  },
  {
   "cell_type": "code",
   "execution_count": 14,
   "metadata": {
    "id": "eo2Vfp_X3rbj"
   },
   "outputs": [],
   "source": [
    "#RK\n",
    "#Converting Categorical variables to dummy variables.\n",
    "df = pd.get_dummies(df, columns=['holiday','weather_main','weather_description'])"
   ]
  },
  {
   "cell_type": "code",
   "execution_count": 15,
   "metadata": {
    "id": "KsbVdw9A4SGP"
   },
   "outputs": [],
   "source": [
    "#RK\n",
    "#not enough instances when splitting dataset, column has to be dropped\n",
    "#it was resulting in errors when training the model - it only has a single row were it is true (= to 1) so it can be dropped\n",
    "df = df.drop(columns=[\"weather_description_proximity thunderstorm with drizzle\"])"
   ]
  },
  {
   "cell_type": "markdown",
   "metadata": {
    "id": "SZB8huF-5VRk"
   },
   "source": [
    "# **SPLIT TRAINING/VALIDATION/TEST**"
   ]
  },
  {
   "cell_type": "code",
   "execution_count": 16,
   "metadata": {
    "id": "M1XiwVVy8wJM"
   },
   "outputs": [],
   "source": [
    "#RK\n",
    "column_indices = {name: i for i, name in enumerate(df.columns)}\n",
    "\n",
    "#last 5000 records become test set\n",
    "test_df = df.iloc[-5000:]\n",
    "rest_df = df.iloc[:-5000, :]\n",
    "\n",
    "#next 7000 records from the back become validation set\n",
    "val_df = rest_df.iloc[-7000:]\n",
    "train_df = rest_df.iloc[:-7000, :] #rest becomes train set\n",
    "\n",
    "num_features = df.shape[1]\n"
   ]
  },
  {
   "cell_type": "markdown",
   "metadata": {
    "id": "SGJ9s4Ze8-bN"
   },
   "source": [
    "RK. Verify that the number of rows matches the original dataset"
   ]
  },
  {
   "cell_type": "code",
   "execution_count": 17,
   "metadata": {
    "colab": {
     "base_uri": "https://localhost:8080/"
    },
    "id": "qY9q09AJ89ku",
    "outputId": "25b167c9-6340-4f3c-e92d-e2baff56d7a5"
   },
   "outputs": [
    {
     "data": {
      "text/plain": [
       "True"
      ]
     },
     "execution_count": 17,
     "metadata": {},
     "output_type": "execute_result"
    }
   ],
   "source": [
    "len(train_df) + len(val_df) + len(test_df) == len(df)"
   ]
  },
  {
   "cell_type": "markdown",
   "metadata": {
    "id": "fCKBboy9_v2a"
   },
   "source": [
    "**Normalize**"
   ]
  },
  {
   "cell_type": "code",
   "execution_count": 18,
   "metadata": {
    "id": "07Yeivvd_rtj"
   },
   "outputs": [],
   "source": [
    "# FROM TF TUTORIAL\n",
    "train_mean = train_df.mean()\n",
    "train_std = train_df.std()\n",
    "\n",
    "train_df = (train_df - train_mean) / train_std\n",
    "val_df = (val_df - train_mean) / train_std\n",
    "test_df = (test_df - train_mean) / train_std"
   ]
  },
  {
   "cell_type": "markdown",
   "metadata": {
    "id": "XKMkfeVs9NPs"
   },
   "source": [
    "# **Sample Plot**"
   ]
  },
  {
   "cell_type": "code",
   "execution_count": 19,
   "metadata": {
    "id": "dBZcJKe-9QjL"
   },
   "outputs": [],
   "source": [
    "# FROM TF TUTORIAL\n",
    "class WindowGenerator():\n",
    "  def __init__(self, input_width, label_width, shift,\n",
    "               train_df=train_df, val_df=val_df, test_df=test_df,\n",
    "               label_columns=None):\n",
    "    # Store the raw data.\n",
    "    self.train_df = train_df\n",
    "    self.val_df = val_df\n",
    "    self.test_df = test_df\n",
    "\n",
    "    # Work out the label column indices.\n",
    "    self.label_columns = label_columns\n",
    "    if label_columns is not None:\n",
    "      self.label_columns_indices = {name: i for i, name in\n",
    "                                    enumerate(label_columns)}\n",
    "    self.column_indices = {name: i for i, name in\n",
    "                           enumerate(train_df.columns)}\n",
    "\n",
    "    # Work out the window parameters.\n",
    "    self.input_width = input_width\n",
    "    self.label_width = label_width\n",
    "    self.shift = shift\n",
    "\n",
    "    self.total_window_size = input_width + shift\n",
    "\n",
    "    self.input_slice = slice(0, input_width)\n",
    "    self.input_indices = np.arange(self.total_window_size)[self.input_slice]\n",
    "\n",
    "    self.label_start = self.total_window_size - self.label_width\n",
    "    self.labels_slice = slice(self.label_start, None)\n",
    "    self.label_indices = np.arange(self.total_window_size)[self.labels_slice]\n",
    "\n",
    "  def __repr__(self):\n",
    "    return '\\n'.join([\n",
    "        f'Total window size: {self.total_window_size}',\n",
    "        f'Input indices: {self.input_indices}',\n",
    "        f'Label indices: {self.label_indices}',\n",
    "        f'Label column name(s): {self.label_columns}'])"
   ]
  },
  {
   "cell_type": "code",
   "execution_count": 20,
   "metadata": {
    "id": "4UTsBhfE98Nx"
   },
   "outputs": [],
   "source": [
    "# FROM TF TUTORIAL\n",
    "def split_window(self, features):\n",
    "  inputs = features[:, self.input_slice, :]\n",
    "  labels = features[:, self.labels_slice, :]\n",
    "  if self.label_columns is not None:\n",
    "    labels = tf.stack(\n",
    "        [labels[:, :, self.column_indices[name]] for name in self.label_columns],\n",
    "        axis=-1)\n",
    "  #TF\n",
    "  # Slicing doesn't preserve static shape information, so set the shapes\n",
    "  # manually. This way the `tf.data.Datasets` are easier to inspect.\n",
    "  inputs.set_shape([None, self.input_width, None])\n",
    "  labels.set_shape([None, self.label_width, None])\n",
    "\n",
    "  return inputs, labels\n",
    "\n",
    "WindowGenerator.split_window = split_window"
   ]
  },
  {
   "cell_type": "code",
   "execution_count": 21,
   "metadata": {
    "id": "16UPSJul-B3h"
   },
   "outputs": [],
   "source": [
    "# FROM TF TUTORIAL\n",
    "def plot(self, model=None, plot_col='traffic_volume', max_subplots=3):\n",
    "  inputs, labels = self.example\n",
    "  plt.figure(figsize=(12, 8))\n",
    "  plot_col_index = self.column_indices[plot_col]\n",
    "  max_n = min(max_subplots, len(inputs))\n",
    "  for n in range(max_n):\n",
    "    plt.subplot(max_n, 1, n+1)\n",
    "    plt.ylabel(f'{plot_col} [normed]')\n",
    "    plt.plot(self.input_indices, inputs[n, :, plot_col_index],\n",
    "             label='Inputs', marker='.', zorder=-10)\n",
    "\n",
    "    if self.label_columns:\n",
    "      label_col_index = self.label_columns_indices.get(plot_col, None)\n",
    "    else:\n",
    "      label_col_index = plot_col_index\n",
    "\n",
    "    if label_col_index is None:\n",
    "      continue\n",
    "\n",
    "    plt.scatter(self.label_indices, labels[n, :, label_col_index],\n",
    "                edgecolors='k', label='Labels', c='#2ca02c', s=64)\n",
    "    if model is not None:\n",
    "      predictions = model(inputs)\n",
    "      plt.scatter(self.label_indices, predictions[n, :, label_col_index],\n",
    "                  marker='X', edgecolors='k', label='Predictions',\n",
    "                  c='#ff7f0e', s=64)\n",
    "\n",
    "    if n == 0:\n",
    "      plt.legend()\n",
    "\n",
    "  plt.xlabel('Time [h]')\n",
    "WindowGenerator.plot = plot"
   ]
  },
  {
   "cell_type": "markdown",
   "metadata": {
    "id": "alqFBpT49VgP"
   },
   "source": [
    "**CREATE WINDOW - 7,1,3**"
   ]
  },
  {
   "cell_type": "markdown",
   "metadata": {
    "id": "KqgPiBWNVYkq"
   },
   "source": [
    "RK. The window has 7 inputs, and a single output that is offset by 3 hours. The total window size should be 10."
   ]
  },
  {
   "cell_type": "code",
   "execution_count": 22,
   "metadata": {
    "colab": {
     "base_uri": "https://localhost:8080/"
    },
    "id": "_jxW7JQx9bW0",
    "outputId": "68d77401-28e1-4334-ff69-53d2a639b298"
   },
   "outputs": [
    {
     "data": {
      "text/plain": [
       "Total window size: 10\n",
       "Input indices: [0 1 2 3 4 5 6]\n",
       "Label indices: [9]\n",
       "Label column name(s): ['traffic_volume']"
      ]
     },
     "execution_count": 22,
     "metadata": {},
     "output_type": "execute_result"
    }
   ],
   "source": [
    "window_7_1_3 = WindowGenerator(input_width=7, label_width=1, shift=3, label_columns=['traffic_volume'])\n",
    "window_7_1_3"
   ]
  },
  {
   "cell_type": "markdown",
   "metadata": {
    "id": "-PkgCr1Q9opD"
   },
   "source": [
    "**Sample Test Plot using TF Tutorial Code**"
   ]
  },
  {
   "cell_type": "code",
   "execution_count": 23,
   "metadata": {
    "colab": {
     "base_uri": "https://localhost:8080/",
     "height": 497
    },
    "id": "5rd0pGIa9t_F",
    "outputId": "ee189dec-bd59-4253-9b6d-d163eaab8f90"
   },
   "outputs": [
    {
     "data": {
      "image/png": "[encoded data removed]",
      "text/plain": [
       "<Figure size 864x576 with 3 Axes>"
      ]
     },
     "metadata": {
      "needs_background": "light"
     },
     "output_type": "display_data"
    }
   ],
   "source": [
    "#FROM TF TUTORIAL - MODIFIED\n",
    "window_size = window_7_1_3.total_window_size #retreive total window size - 10\n",
    "sample_window = tf.stack([np.array(train_df[:window_size]), #retrieve first 10 rows from training data\n",
    "                          np.array(train_df[100:100+window_size]), #retrieve rows 101-110 from training data\n",
    "                          np.array(train_df[200:200+window_size])]) #retrieve rows 201-210 from training data\n",
    "sample_inputs, sample_labels = window_7_1_3.split_window(sample_window) #retrieve inputs and labels from rows\n",
    "\n",
    "window_7_1_3.example = sample_inputs, sample_labels\n",
    "window_7_1_3.plot()\n",
    "\n",
    "\n"
   ]
  },
  {
   "cell_type": "markdown",
   "metadata": {
    "id": "euGP6XFIVjDM"
   },
   "source": [
    "We can see that the window is working properly."
   ]
  },
  {
   "cell_type": "markdown",
   "metadata": {
    "id": "ETyHJDpMArlb"
   },
   "source": [
    "# **MODEL FUNCTIONS**"
   ]
  },
  {
   "cell_type": "markdown",
   "metadata": {
    "id": "t6YLbCipWJdT"
   },
   "source": [
    "RK. Tutorial code to turn our split data into batches."
   ]
  },
  {
   "cell_type": "code",
   "execution_count": 24,
   "metadata": {
    "id": "wm8PpYWKAwHB"
   },
   "outputs": [],
   "source": [
    "#FROM TF TUTORIAL - MODIFIED\n",
    "#RK. Changed for only the validation and testing data, that data IS NOT shuffled\n",
    "def make_dataset(self, data):\n",
    "  data = np.array(data, dtype=np.float32)\n",
    "  ds = tf.keras.preprocessing.timeseries_dataset_from_array(\n",
    "      data=data,\n",
    "      targets=None,\n",
    "      sequence_length=self.total_window_size,\n",
    "      sequence_stride=1,\n",
    "      shuffle=False,\n",
    "      batch_size=32,)\n",
    "\n",
    "  ds = ds.map(self.split_window)\n",
    "\n",
    "  return ds\n",
    "\n",
    "#RK\n",
    "#created a new function for just the training dataset\n",
    "#this one shuffles the data\n",
    "def make_train_dataset(self, data):\n",
    "  data = np.array(data, dtype=np.float32)\n",
    "  ds = tf.keras.preprocessing.timeseries_dataset_from_array(\n",
    "      data=data,\n",
    "      targets=None,\n",
    "      sequence_length=self.total_window_size,\n",
    "      sequence_stride=1,\n",
    "      shuffle=True,\n",
    "      batch_size=32,)\n",
    "\n",
    "  ds = ds.map(self.split_window)\n",
    "\n",
    "  return ds\n",
    "\n",
    "WindowGenerator.make_dataset = make_dataset\n",
    "#RK. additional variable in the class for the train dataset function\n",
    "WindowGenerator.make_train_dataset = make_train_dataset"
   ]
  },
  {
   "cell_type": "code",
   "execution_count": 25,
   "metadata": {
    "id": "s_dCJ571A24E"
   },
   "outputs": [],
   "source": [
    "#FROM TF TUTORIAL - slightly modified\n",
    "@property\n",
    "def train(self):\n",
    "  return self.make_train_dataset(self.train_df)\n",
    "  #RK. Modified so train uses the new train_dataset function\n",
    "\n",
    "@property\n",
    "def val(self):\n",
    "  return self.make_dataset(self.val_df)\n",
    "\n",
    "@property\n",
    "def test(self):\n",
    "  return self.make_dataset(self.test_df)\n",
    "\n",
    "WindowGenerator.train = train\n",
    "WindowGenerator.val = val\n",
    "WindowGenerator.test = test"
   ]
  },
  {
   "cell_type": "markdown",
   "metadata": {
    "id": "OJQ1HcBjWRZ7"
   },
   "source": [
    "RK. Tutorial function to train and evaluate a model. Uses early stopage that I modified to restore the best weights and I parameterized total epochs for ease of testing"
   ]
  },
  {
   "cell_type": "code",
   "execution_count": 26,
   "metadata": {
    "id": "nybkBqSTElWS"
   },
   "outputs": [],
   "source": [
    "#FROM TF TUTORIAL - MODIFIED\n",
    "#RK. ADDED restore best weights, and turned max epochs into a parameter for easier testing\n",
    "def compile_and_fit(model, window, patience=10, epochs=50):\n",
    "  early_stopping = tf.keras.callbacks.EarlyStopping(monitor='val_loss', patience=patience, mode='min', restore_best_weights = True)\n",
    "\n",
    "  model.compile(loss=tf.losses.MeanSquaredError(), optimizer=tf.optimizers.Adam(), metrics=[tf.metrics.MeanAbsoluteError()])\n",
    "\n",
    "  history = model.fit(window.train, epochs=epochs, validation_data=window.val, callbacks=[early_stopping])\n",
    "\n",
    "  return history"
   ]
  },
  {
   "cell_type": "markdown",
   "metadata": {
    "id": "RoGMqu2dWbo9"
   },
   "source": [
    "RK. Function I created to create prediction CSV. Takes in a model and window object. Creates prediction set, denormalizes it and outputs it in the proper format for KAGGLE."
   ]
  },
  {
   "cell_type": "code",
   "execution_count": 27,
   "metadata": {
    "id": "pm8BrDT0E2Ez"
   },
   "outputs": [],
   "source": [
    "#RK. I wrote this function to take in a model and window and return a csv with the predictions\n",
    "def make_predictions(model,window):\n",
    "  #RK make predictions\n",
    "  prediction = model.predict(window.test) \n",
    "\n",
    "  #RK denormalize predictions\n",
    "  predictions = (prediction * train_std['traffic_volume']) + train_mean['traffic_volume'] \n",
    "\n",
    "  #RK add ID and format rows for output\n",
    "  output = []\n",
    "  output.append(['id','prediction'])\n",
    "  count = 1\n",
    "  for row in predictions:\n",
    "    prediction = [count] + row.tolist()\n",
    "    output.append(prediction)\n",
    "    count += 1\n",
    "  \n",
    "  #RK write to csv for submission\n",
    "  import csv\n",
    "  with open('FinalPredictions.csv','w') as f:\n",
    "    writer = csv.writer(f)\n",
    "    for row in output:\n",
    "      writer.writerow(row)\n",
    "\n",
    "\n"
   ]
  },
  {
   "cell_type": "markdown",
   "metadata": {
    "id": "2AvDmme87vzK"
   },
   "source": [
    "RK. Function I created to plot MAE of training vs validation, as well as loss of training vs validation"
   ]
  },
  {
   "cell_type": "code",
   "execution_count": 28,
   "metadata": {
    "id": "g-cd6pqo7uy8"
   },
   "outputs": [],
   "source": [
    "def plot_results(history):\n",
    "  plt.plot(history.history['mean_absolute_error'], label='training MAE') \n",
    "  plt.plot(history.history['val_mean_absolute_error'], label = 'valid. MAE') \n",
    "  plt.xlabel('Epoch')\n",
    "  plt.ylabel('MAE')\n",
    "  plt.ylim([0.0, 0.5])\n",
    "  plt.legend(loc='upper right')\n",
    "\n",
    "  plt.plot(history.history['loss'], label='training loss') \n",
    "  plt.plot(history.history['val_loss'], label = 'valid. loss') \n",
    "  plt.xlabel('Epoch')\n",
    "  plt.ylabel('value')\n",
    "  plt.ylim([0.0, 0.5])\n",
    "  plt.legend(loc='upper right')\n"
   ]
  },
  {
   "cell_type": "markdown",
   "metadata": {
    "id": "ws8kYNKYWsxp"
   },
   "source": [
    "**BUILDING MODELS - ALL CODE FROM THIS POINT IS COMPLETLY MINE**"
   ]
  },
  {
   "cell_type": "markdown",
   "metadata": {
    "id": "UaYGqD0tFoic"
   },
   "source": [
    "# **BASELINE MODEL**"
   ]
  },
  {
   "cell_type": "code",
   "execution_count": 29,
   "metadata": {
    "id": "9aPcRmOHBCdA"
   },
   "outputs": [],
   "source": [
    "baseline_model = tf.keras.models.Sequential([\n",
    "    tf.keras.layers.LSTM(7),\n",
    "    tf.keras.layers.Dense(units=1)\n",
    "])\n"
   ]
  },
  {
   "cell_type": "code",
   "execution_count": 30,
   "metadata": {
    "colab": {
     "base_uri": "https://localhost:8080/"
    },
    "id": "-17ix_Q0DaQ8",
    "outputId": "02aa94be-abf1-426c-eb8e-9099c7f27e2b"
   },
   "outputs": [
    {
     "name": "stdout",
     "output_type": "stream",
     "text": [
      "Epoch 1/50\n",
      "893/893 [==============================] - 6s 5ms/step - loss: 0.4171 - mean_absolute_error: 0.4782 - val_loss: 0.2542 - val_mean_absolute_error: 0.3627\n",
      "Epoch 2/50\n",
      "893/893 [==============================] - 4s 4ms/step - loss: 0.2832 - mean_absolute_error: 0.3690 - val_loss: 0.2147 - val_mean_absolute_error: 0.3251\n",
      "Epoch 3/50\n",
      "893/893 [==============================] - 4s 4ms/step - loss: 0.2552 - mean_absolute_error: 0.3443 - val_loss: 0.1959 - val_mean_absolute_error: 0.3050\n",
      "Epoch 4/50\n",
      "893/893 [==============================] - 4s 4ms/step - loss: 0.2356 - mean_absolute_error: 0.3277 - val_loss: 0.1801 - val_mean_absolute_error: 0.2896\n",
      "Epoch 5/50\n",
      "893/893 [==============================] - 4s 5ms/step - loss: 0.2198 - mean_absolute_error: 0.3130 - val_loss: 0.1634 - val_mean_absolute_error: 0.2735\n",
      "Epoch 6/50\n",
      "893/893 [==============================] - 4s 5ms/step - loss: 0.2047 - mean_absolute_error: 0.3004 - val_loss: 0.1511 - val_mean_absolute_error: 0.2618\n",
      "Epoch 7/50\n",
      "893/893 [==============================] - 4s 5ms/step - loss: 0.1941 - mean_absolute_error: 0.2916 - val_loss: 0.1404 - val_mean_absolute_error: 0.2536\n",
      "Epoch 8/50\n",
      "893/893 [==============================] - 4s 5ms/step - loss: 0.1848 - mean_absolute_error: 0.2848 - val_loss: 0.1335 - val_mean_absolute_error: 0.2495\n",
      "Epoch 9/50\n",
      "893/893 [==============================] - 4s 5ms/step - loss: 0.1778 - mean_absolute_error: 0.2792 - val_loss: 0.1284 - val_mean_absolute_error: 0.2444\n",
      "Epoch 10/50\n",
      "893/893 [==============================] - 4s 5ms/step - loss: 0.1709 - mean_absolute_error: 0.2732 - val_loss: 0.1241 - val_mean_absolute_error: 0.2406\n",
      "Epoch 11/50\n",
      "893/893 [==============================] - 5s 5ms/step - loss: 0.1651 - mean_absolute_error: 0.2680 - val_loss: 0.1193 - val_mean_absolute_error: 0.2352\n",
      "Epoch 12/50\n",
      "893/893 [==============================] - 5s 6ms/step - loss: 0.1596 - mean_absolute_error: 0.2629 - val_loss: 0.1166 - val_mean_absolute_error: 0.2319\n",
      "Epoch 13/50\n",
      "893/893 [==============================] - 5s 6ms/step - loss: 0.1554 - mean_absolute_error: 0.2588 - val_loss: 0.1133 - val_mean_absolute_error: 0.2292\n",
      "Epoch 14/50\n",
      "893/893 [==============================] - 5s 6ms/step - loss: 0.1513 - mean_absolute_error: 0.2552 - val_loss: 0.1073 - val_mean_absolute_error: 0.2227\n",
      "Epoch 15/50\n",
      "893/893 [==============================] - 5s 6ms/step - loss: 0.1479 - mean_absolute_error: 0.2517 - val_loss: 0.1074 - val_mean_absolute_error: 0.2210\n",
      "Epoch 16/50\n",
      "893/893 [==============================] - 5s 6ms/step - loss: 0.1444 - mean_absolute_error: 0.2483 - val_loss: 0.0996 - val_mean_absolute_error: 0.2142\n",
      "Epoch 17/50\n",
      "893/893 [==============================] - 5s 6ms/step - loss: 0.1418 - mean_absolute_error: 0.2455 - val_loss: 0.0997 - val_mean_absolute_error: 0.2131\n",
      "Epoch 18/50\n",
      "893/893 [==============================] - 5s 6ms/step - loss: 0.1390 - mean_absolute_error: 0.2430 - val_loss: 0.0995 - val_mean_absolute_error: 0.2122\n",
      "Epoch 19/50\n",
      "893/893 [==============================] - 5s 6ms/step - loss: 0.1371 - mean_absolute_error: 0.2410 - val_loss: 0.1000 - val_mean_absolute_error: 0.2123\n",
      "Epoch 20/50\n",
      "893/893 [==============================] - 5s 6ms/step - loss: 0.1361 - mean_absolute_error: 0.2394 - val_loss: 0.0942 - val_mean_absolute_error: 0.2078\n",
      "Epoch 21/50\n",
      "893/893 [==============================] - 5s 6ms/step - loss: 0.1338 - mean_absolute_error: 0.2378 - val_loss: 0.0964 - val_mean_absolute_error: 0.2080\n",
      "Epoch 22/50\n",
      "893/893 [==============================] - 5s 6ms/step - loss: 0.1318 - mean_absolute_error: 0.2358 - val_loss: 0.0923 - val_mean_absolute_error: 0.2033\n",
      "Epoch 23/50\n",
      "893/893 [==============================] - 5s 6ms/step - loss: 0.1307 - mean_absolute_error: 0.2346 - val_loss: 0.0920 - val_mean_absolute_error: 0.2035\n",
      "Epoch 24/50\n",
      "893/893 [==============================] - 5s 6ms/step - loss: 0.1287 - mean_absolute_error: 0.2327 - val_loss: 0.0965 - val_mean_absolute_error: 0.2071\n",
      "Epoch 25/50\n",
      "893/893 [==============================] - 5s 6ms/step - loss: 0.1271 - mean_absolute_error: 0.2310 - val_loss: 0.0915 - val_mean_absolute_error: 0.2027\n",
      "Epoch 26/50\n",
      "893/893 [==============================] - 5s 6ms/step - loss: 0.1262 - mean_absolute_error: 0.2302 - val_loss: 0.0869 - val_mean_absolute_error: 0.1979\n",
      "Epoch 27/50\n",
      "893/893 [==============================] - 5s 6ms/step - loss: 0.1253 - mean_absolute_error: 0.2293 - val_loss: 0.0873 - val_mean_absolute_error: 0.1985\n",
      "Epoch 28/50\n",
      "893/893 [==============================] - 5s 6ms/step - loss: 0.1244 - mean_absolute_error: 0.2281 - val_loss: 0.0890 - val_mean_absolute_error: 0.1992\n",
      "Epoch 29/50\n",
      "893/893 [==============================] - 5s 6ms/step - loss: 0.1232 - mean_absolute_error: 0.2270 - val_loss: 0.0888 - val_mean_absolute_error: 0.1979\n",
      "Epoch 30/50\n",
      "893/893 [==============================] - 5s 6ms/step - loss: 0.1227 - mean_absolute_error: 0.2264 - val_loss: 0.0858 - val_mean_absolute_error: 0.1969\n",
      "Epoch 31/50\n",
      "893/893 [==============================] - 5s 6ms/step - loss: 0.1221 - mean_absolute_error: 0.2256 - val_loss: 0.0853 - val_mean_absolute_error: 0.1959\n",
      "Epoch 32/50\n",
      "893/893 [==============================] - 5s 6ms/step - loss: 0.1209 - mean_absolute_error: 0.2247 - val_loss: 0.0841 - val_mean_absolute_error: 0.1938\n",
      "Epoch 33/50\n",
      "893/893 [==============================] - 5s 6ms/step - loss: 0.1206 - mean_absolute_error: 0.2242 - val_loss: 0.0846 - val_mean_absolute_error: 0.1934\n",
      "Epoch 34/50\n",
      "893/893 [==============================] - 5s 6ms/step - loss: 0.1201 - mean_absolute_error: 0.2231 - val_loss: 0.0875 - val_mean_absolute_error: 0.1961\n",
      "Epoch 35/50\n",
      "893/893 [==============================] - 5s 6ms/step - loss: 0.1194 - mean_absolute_error: 0.2226 - val_loss: 0.0893 - val_mean_absolute_error: 0.1978\n",
      "Epoch 36/50\n",
      "893/893 [==============================] - 5s 6ms/step - loss: 0.1191 - mean_absolute_error: 0.2227 - val_loss: 0.0828 - val_mean_absolute_error: 0.1922\n",
      "Epoch 37/50\n",
      "893/893 [==============================] - 5s 6ms/step - loss: 0.1182 - mean_absolute_error: 0.2214 - val_loss: 0.0812 - val_mean_absolute_error: 0.1906\n",
      "Epoch 38/50\n",
      "893/893 [==============================] - 5s 6ms/step - loss: 0.1175 - mean_absolute_error: 0.2208 - val_loss: 0.0856 - val_mean_absolute_error: 0.1953\n",
      "Epoch 39/50\n",
      "893/893 [==============================] - 5s 6ms/step - loss: 0.1175 - mean_absolute_error: 0.2205 - val_loss: 0.0852 - val_mean_absolute_error: 0.1928\n",
      "Epoch 40/50\n",
      "893/893 [==============================] - 5s 6ms/step - loss: 0.1167 - mean_absolute_error: 0.2199 - val_loss: 0.0856 - val_mean_absolute_error: 0.1951\n",
      "Epoch 41/50\n",
      "893/893 [==============================] - 5s 6ms/step - loss: 0.1162 - mean_absolute_error: 0.2193 - val_loss: 0.0836 - val_mean_absolute_error: 0.1947\n",
      "Epoch 42/50\n",
      "893/893 [==============================] - 5s 6ms/step - loss: 0.1159 - mean_absolute_error: 0.2188 - val_loss: 0.0825 - val_mean_absolute_error: 0.1928\n",
      "Epoch 43/50\n",
      "893/893 [==============================] - 5s 6ms/step - loss: 0.1160 - mean_absolute_error: 0.2187 - val_loss: 0.0801 - val_mean_absolute_error: 0.1903\n",
      "Epoch 44/50\n",
      "893/893 [==============================] - 5s 6ms/step - loss: 0.1152 - mean_absolute_error: 0.2181 - val_loss: 0.0795 - val_mean_absolute_error: 0.1892\n",
      "Epoch 45/50\n",
      "893/893 [==============================] - 5s 6ms/step - loss: 0.1146 - mean_absolute_error: 0.2174 - val_loss: 0.0827 - val_mean_absolute_error: 0.1928\n",
      "Epoch 46/50\n",
      "893/893 [==============================] - 5s 6ms/step - loss: 0.1147 - mean_absolute_error: 0.2174 - val_loss: 0.0813 - val_mean_absolute_error: 0.1903\n",
      "Epoch 47/50\n",
      "893/893 [==============================] - 5s 6ms/step - loss: 0.1143 - mean_absolute_error: 0.2171 - val_loss: 0.0798 - val_mean_absolute_error: 0.1884\n",
      "Epoch 48/50\n",
      "893/893 [==============================] - 5s 6ms/step - loss: 0.1138 - mean_absolute_error: 0.2166 - val_loss: 0.0766 - val_mean_absolute_error: 0.1864\n",
      "Epoch 49/50\n",
      "893/893 [==============================] - 5s 6ms/step - loss: 0.1132 - mean_absolute_error: 0.2162 - val_loss: 0.0784 - val_mean_absolute_error: 0.1881\n",
      "Epoch 50/50\n",
      "893/893 [==============================] - 5s 6ms/step - loss: 0.1130 - mean_absolute_error: 0.2157 - val_loss: 0.0784 - val_mean_absolute_error: 0.1869\n"
     ]
    }
   ],
   "source": [
    "hist = compile_and_fit(baseline_model, window_7_1_3, 10, 50)"
   ]
  },
  {
   "cell_type": "code",
   "execution_count": 31,
   "metadata": {
    "id": "v0ZTwoCcFqrm"
   },
   "outputs": [],
   "source": [
    "make_predictions(baseline_model, window_7_1_3)"
   ]
  },
  {
   "cell_type": "code",
   "execution_count": 32,
   "metadata": {
    "colab": {
     "base_uri": "https://localhost:8080/",
     "height": 283
    },
    "id": "XqOkJAbp7fYN",
    "outputId": "dd9efe9d-61de-404c-a26b-0871d879ca03"
   },
   "outputs": [
    {
     "data": {
      "image/png": "[encoded data removed]",
      "text/plain": [
       "<Figure size 432x288 with 1 Axes>"
      ]
     },
     "metadata": {
      "needs_background": "light"
     },
     "output_type": "display_data"
    }
   ],
   "source": [
    "plot_results(hist)"
   ]
  },
  {
   "cell_type": "markdown",
   "metadata": {
    "id": "HfxZdd7hIRd9"
   },
   "source": [
    "# **PARAMETER TUNING: NUMBER OF UNITS**"
   ]
  },
  {
   "cell_type": "code",
   "execution_count": 33,
   "metadata": {
    "id": "caiKTh2RIWUM"
   },
   "outputs": [],
   "source": [
    "unit_model = tf.keras.models.Sequential([\n",
    "    tf.keras.layers.LSTM(9),\n",
    "    tf.keras.layers.Dense(units=1)\n",
    "])\n"
   ]
  },
  {
   "cell_type": "code",
   "execution_count": 34,
   "metadata": {
    "colab": {
     "base_uri": "https://localhost:8080/"
    },
    "id": "fRoVq4ZSIaW1",
    "outputId": "07911639-5411-435c-e814-307dabaa01a6"
   },
   "outputs": [
    {
     "name": "stdout",
     "output_type": "stream",
     "text": [
      "Epoch 1/50\n",
      "893/893 [==============================] - 7s 5ms/step - loss: 0.4408 - mean_absolute_error: 0.4968 - val_loss: 0.2681 - val_mean_absolute_error: 0.3714\n",
      "Epoch 2/50\n",
      "893/893 [==============================] - 5s 6ms/step - loss: 0.2912 - mean_absolute_error: 0.3747 - val_loss: 0.2277 - val_mean_absolute_error: 0.3326\n",
      "Epoch 3/50\n",
      "893/893 [==============================] - 5s 6ms/step - loss: 0.2567 - mean_absolute_error: 0.3422 - val_loss: 0.2074 - val_mean_absolute_error: 0.3141\n",
      "Epoch 4/50\n",
      "893/893 [==============================] - 5s 6ms/step - loss: 0.2345 - mean_absolute_error: 0.3246 - val_loss: 0.1934 - val_mean_absolute_error: 0.3015\n",
      "Epoch 5/50\n",
      "893/893 [==============================] - 6s 6ms/step - loss: 0.2196 - mean_absolute_error: 0.3114 - val_loss: 0.1793 - val_mean_absolute_error: 0.2863\n",
      "Epoch 6/50\n",
      "893/893 [==============================] - 6s 6ms/step - loss: 0.2079 - mean_absolute_error: 0.3017 - val_loss: 0.1729 - val_mean_absolute_error: 0.2809\n",
      "Epoch 7/50\n",
      "893/893 [==============================] - 6s 6ms/step - loss: 0.1965 - mean_absolute_error: 0.2917 - val_loss: 0.1577 - val_mean_absolute_error: 0.2655\n",
      "Epoch 8/50\n",
      "893/893 [==============================] - 5s 6ms/step - loss: 0.1819 - mean_absolute_error: 0.2799 - val_loss: 0.1399 - val_mean_absolute_error: 0.2509\n",
      "Epoch 9/50\n",
      "893/893 [==============================] - 5s 6ms/step - loss: 0.1672 - mean_absolute_error: 0.2676 - val_loss: 0.1245 - val_mean_absolute_error: 0.2352\n",
      "Epoch 10/50\n",
      "893/893 [==============================] - 6s 6ms/step - loss: 0.1577 - mean_absolute_error: 0.2596 - val_loss: 0.1202 - val_mean_absolute_error: 0.2334\n",
      "Epoch 11/50\n",
      "893/893 [==============================] - 5s 6ms/step - loss: 0.1505 - mean_absolute_error: 0.2532 - val_loss: 0.1120 - val_mean_absolute_error: 0.2239\n",
      "Epoch 12/50\n",
      "893/893 [==============================] - 6s 6ms/step - loss: 0.1459 - mean_absolute_error: 0.2488 - val_loss: 0.1097 - val_mean_absolute_error: 0.2227\n",
      "Epoch 13/50\n",
      "893/893 [==============================] - 6s 6ms/step - loss: 0.1422 - mean_absolute_error: 0.2453 - val_loss: 0.1073 - val_mean_absolute_error: 0.2189\n",
      "Epoch 14/50\n",
      "893/893 [==============================] - 6s 6ms/step - loss: 0.1391 - mean_absolute_error: 0.2422 - val_loss: 0.1032 - val_mean_absolute_error: 0.2143\n",
      "Epoch 15/50\n",
      "893/893 [==============================] - 6s 6ms/step - loss: 0.1368 - mean_absolute_error: 0.2402 - val_loss: 0.1022 - val_mean_absolute_error: 0.2146\n",
      "Epoch 16/50\n",
      "893/893 [==============================] - 6s 6ms/step - loss: 0.1349 - mean_absolute_error: 0.2381 - val_loss: 0.1000 - val_mean_absolute_error: 0.2114\n",
      "Epoch 17/50\n",
      "893/893 [==============================] - 6s 6ms/step - loss: 0.1330 - mean_absolute_error: 0.2360 - val_loss: 0.0978 - val_mean_absolute_error: 0.2074\n",
      "Epoch 18/50\n",
      "893/893 [==============================] - 6s 6ms/step - loss: 0.1310 - mean_absolute_error: 0.2341 - val_loss: 0.0981 - val_mean_absolute_error: 0.2080\n",
      "Epoch 19/50\n",
      "893/893 [==============================] - 6s 6ms/step - loss: 0.1294 - mean_absolute_error: 0.2326 - val_loss: 0.0976 - val_mean_absolute_error: 0.2072\n",
      "Epoch 20/50\n",
      "893/893 [==============================] - 5s 6ms/step - loss: 0.1282 - mean_absolute_error: 0.2317 - val_loss: 0.0950 - val_mean_absolute_error: 0.2044\n",
      "Epoch 21/50\n",
      "893/893 [==============================] - 5s 6ms/step - loss: 0.1269 - mean_absolute_error: 0.2301 - val_loss: 0.0968 - val_mean_absolute_error: 0.2063\n",
      "Epoch 22/50\n",
      "893/893 [==============================] - 5s 6ms/step - loss: 0.1262 - mean_absolute_error: 0.2295 - val_loss: 0.0953 - val_mean_absolute_error: 0.2033\n",
      "Epoch 23/50\n",
      "893/893 [==============================] - 5s 6ms/step - loss: 0.1247 - mean_absolute_error: 0.2280 - val_loss: 0.0940 - val_mean_absolute_error: 0.2021\n",
      "Epoch 24/50\n",
      "893/893 [==============================] - 5s 6ms/step - loss: 0.1235 - mean_absolute_error: 0.2267 - val_loss: 0.0928 - val_mean_absolute_error: 0.2022\n",
      "Epoch 25/50\n",
      "893/893 [==============================] - 5s 6ms/step - loss: 0.1228 - mean_absolute_error: 0.2262 - val_loss: 0.0929 - val_mean_absolute_error: 0.2006\n",
      "Epoch 26/50\n",
      "893/893 [==============================] - 5s 6ms/step - loss: 0.1220 - mean_absolute_error: 0.2255 - val_loss: 0.0921 - val_mean_absolute_error: 0.1999\n",
      "Epoch 27/50\n",
      "893/893 [==============================] - 5s 6ms/step - loss: 0.1205 - mean_absolute_error: 0.2241 - val_loss: 0.0941 - val_mean_absolute_error: 0.2009\n",
      "Epoch 28/50\n",
      "893/893 [==============================] - 6s 6ms/step - loss: 0.1200 - mean_absolute_error: 0.2233 - val_loss: 0.0943 - val_mean_absolute_error: 0.2026\n",
      "Epoch 29/50\n",
      "893/893 [==============================] - 5s 6ms/step - loss: 0.1194 - mean_absolute_error: 0.2224 - val_loss: 0.0936 - val_mean_absolute_error: 0.2012\n",
      "Epoch 30/50\n",
      "893/893 [==============================] - 5s 6ms/step - loss: 0.1188 - mean_absolute_error: 0.2222 - val_loss: 0.0918 - val_mean_absolute_error: 0.1998\n",
      "Epoch 31/50\n",
      "893/893 [==============================] - 6s 6ms/step - loss: 0.1182 - mean_absolute_error: 0.2212 - val_loss: 0.0921 - val_mean_absolute_error: 0.2001\n",
      "Epoch 32/50\n",
      "893/893 [==============================] - 6s 6ms/step - loss: 0.1173 - mean_absolute_error: 0.2203 - val_loss: 0.0912 - val_mean_absolute_error: 0.1975\n",
      "Epoch 33/50\n",
      "893/893 [==============================] - 6s 6ms/step - loss: 0.1169 - mean_absolute_error: 0.2200 - val_loss: 0.0918 - val_mean_absolute_error: 0.1999\n",
      "Epoch 34/50\n",
      "893/893 [==============================] - 6s 6ms/step - loss: 0.1159 - mean_absolute_error: 0.2192 - val_loss: 0.0927 - val_mean_absolute_error: 0.2007\n",
      "Epoch 35/50\n",
      "893/893 [==============================] - 6s 6ms/step - loss: 0.1156 - mean_absolute_error: 0.2186 - val_loss: 0.0928 - val_mean_absolute_error: 0.2006\n",
      "Epoch 36/50\n",
      "893/893 [==============================] - 6s 6ms/step - loss: 0.1156 - mean_absolute_error: 0.2186 - val_loss: 0.0901 - val_mean_absolute_error: 0.1970\n",
      "Epoch 37/50\n",
      "893/893 [==============================] - 6s 6ms/step - loss: 0.1150 - mean_absolute_error: 0.2180 - val_loss: 0.0924 - val_mean_absolute_error: 0.1995\n",
      "Epoch 38/50\n",
      "893/893 [==============================] - 6s 6ms/step - loss: 0.1140 - mean_absolute_error: 0.2172 - val_loss: 0.0897 - val_mean_absolute_error: 0.1959\n",
      "Epoch 39/50\n",
      "893/893 [==============================] - 5s 6ms/step - loss: 0.1135 - mean_absolute_error: 0.2165 - val_loss: 0.0918 - val_mean_absolute_error: 0.1987\n",
      "Epoch 40/50\n",
      "893/893 [==============================] - 6s 7ms/step - loss: 0.1134 - mean_absolute_error: 0.2166 - val_loss: 0.0922 - val_mean_absolute_error: 0.1987\n",
      "Epoch 41/50\n",
      "893/893 [==============================] - 7s 7ms/step - loss: 0.1127 - mean_absolute_error: 0.2161 - val_loss: 0.0916 - val_mean_absolute_error: 0.1979\n",
      "Epoch 42/50\n",
      "893/893 [==============================] - 7s 8ms/step - loss: 0.1126 - mean_absolute_error: 0.2159 - val_loss: 0.0911 - val_mean_absolute_error: 0.1983\n",
      "Epoch 43/50\n",
      "893/893 [==============================] - 7s 7ms/step - loss: 0.1118 - mean_absolute_error: 0.2153 - val_loss: 0.0929 - val_mean_absolute_error: 0.1981\n",
      "Epoch 44/50\n",
      "893/893 [==============================] - 6s 7ms/step - loss: 0.1116 - mean_absolute_error: 0.2151 - val_loss: 0.0924 - val_mean_absolute_error: 0.1990\n",
      "Epoch 45/50\n",
      "893/893 [==============================] - 6s 7ms/step - loss: 0.1115 - mean_absolute_error: 0.2147 - val_loss: 0.0926 - val_mean_absolute_error: 0.2000\n",
      "Epoch 46/50\n",
      "893/893 [==============================] - 6s 7ms/step - loss: 0.1112 - mean_absolute_error: 0.2145 - val_loss: 0.0922 - val_mean_absolute_error: 0.1973\n",
      "Epoch 47/50\n",
      "893/893 [==============================] - 7s 7ms/step - loss: 0.1103 - mean_absolute_error: 0.2138 - val_loss: 0.0933 - val_mean_absolute_error: 0.2000\n",
      "Epoch 48/50\n",
      "893/893 [==============================] - 7s 7ms/step - loss: 0.1101 - mean_absolute_error: 0.2134 - val_loss: 0.0930 - val_mean_absolute_error: 0.1975\n"
     ]
    }
   ],
   "source": [
    "hist = compile_and_fit(unit_model, window_7_1_3, 10, 50)"
   ]
  },
  {
   "cell_type": "code",
   "execution_count": 35,
   "metadata": {
    "colab": {
     "base_uri": "https://localhost:8080/",
     "height": 283
    },
    "id": "pncy2piF8FVs",
    "outputId": "16ba0cd2-34bb-410a-e78f-c1ee1351e9ee"
   },
   "outputs": [
    {
     "data": {
      "image/png": "[encoded data removed]",
      "text/plain": [
       "<Figure size 432x288 with 1 Axes>"
      ]
     },
     "metadata": {
      "needs_background": "light"
     },
     "output_type": "display_data"
    }
   ],
   "source": [
    "plot_results(hist)"
   ]
  },
  {
   "cell_type": "code",
   "execution_count": 36,
   "metadata": {
    "id": "bJSTXLxzU8lT"
   },
   "outputs": [],
   "source": [
    "make_predictions(unit_model, window_7_1_3)"
   ]
  },
  {
   "cell_type": "markdown",
   "metadata": {
    "id": "DkWSKWdcog4n"
   },
   "source": [
    "# **PARAMETER TUNING: ADDITION OF RECURENT LAYERS**"
   ]
  },
  {
   "cell_type": "code",
   "execution_count": 37,
   "metadata": {
    "id": "qWiwNrqdo1qa"
   },
   "outputs": [],
   "source": [
    "layer_model = tf.keras.models.Sequential([\n",
    "    tf.keras.layers.LSTM(9, return_sequences=True),\n",
    "    tf.keras.layers.LSTM(9, return_sequences=True),\n",
    "    tf.keras.layers.LSTM(9, return_sequences=True),\n",
    "    tf.keras.layers.LSTM(9, return_sequences=True),\n",
    "    tf.keras.layers.LSTM(9),\n",
    "    tf.keras.layers.Dense(units=1)\n",
    "])"
   ]
  },
  {
   "cell_type": "code",
   "execution_count": 38,
   "metadata": {
    "colab": {
     "base_uri": "https://localhost:8080/"
    },
    "id": "QzUEyg51o6tG",
    "outputId": "40bb06e2-48c1-470f-f484-97590860dd98"
   },
   "outputs": [
    {
     "name": "stdout",
     "output_type": "stream",
     "text": [
      "Epoch 1/50\n",
      "893/893 [==============================] - 33s 26ms/step - loss: 0.4687 - mean_absolute_error: 0.5163 - val_loss: 0.2741 - val_mean_absolute_error: 0.3954\n",
      "Epoch 2/50\n",
      "893/893 [==============================] - 22s 25ms/step - loss: 0.3397 - mean_absolute_error: 0.4107 - val_loss: 0.2350 - val_mean_absolute_error: 0.3573\n",
      "Epoch 3/50\n",
      "893/893 [==============================] - 23s 26ms/step - loss: 0.2836 - mean_absolute_error: 0.3682 - val_loss: 0.2011 - val_mean_absolute_error: 0.3273\n",
      "Epoch 4/50\n",
      "893/893 [==============================] - 23s 26ms/step - loss: 0.2399 - mean_absolute_error: 0.3360 - val_loss: 0.1701 - val_mean_absolute_error: 0.2936\n",
      "Epoch 5/50\n",
      "893/893 [==============================] - 23s 26ms/step - loss: 0.2066 - mean_absolute_error: 0.3064 - val_loss: 0.1527 - val_mean_absolute_error: 0.2782\n",
      "Epoch 6/50\n",
      "893/893 [==============================] - 23s 26ms/step - loss: 0.1861 - mean_absolute_error: 0.2868 - val_loss: 0.1321 - val_mean_absolute_error: 0.2545\n",
      "Epoch 7/50\n",
      "893/893 [==============================] - 23s 26ms/step - loss: 0.1737 - mean_absolute_error: 0.2757 - val_loss: 0.1242 - val_mean_absolute_error: 0.2447\n",
      "Epoch 8/50\n",
      "893/893 [==============================] - 23s 26ms/step - loss: 0.1642 - mean_absolute_error: 0.2666 - val_loss: 0.1120 - val_mean_absolute_error: 0.2300\n",
      "Epoch 9/50\n",
      "893/893 [==============================] - 23s 26ms/step - loss: 0.1560 - mean_absolute_error: 0.2587 - val_loss: 0.1274 - val_mean_absolute_error: 0.2491\n",
      "Epoch 10/50\n",
      "893/893 [==============================] - 23s 26ms/step - loss: 0.1492 - mean_absolute_error: 0.2515 - val_loss: 0.1124 - val_mean_absolute_error: 0.2331\n",
      "Epoch 11/50\n",
      "893/893 [==============================] - 24s 27ms/step - loss: 0.1441 - mean_absolute_error: 0.2470 - val_loss: 0.1115 - val_mean_absolute_error: 0.2351\n",
      "Epoch 12/50\n",
      "893/893 [==============================] - 23s 26ms/step - loss: 0.1403 - mean_absolute_error: 0.2430 - val_loss: 0.0986 - val_mean_absolute_error: 0.2146\n",
      "Epoch 13/50\n",
      "893/893 [==============================] - 23s 26ms/step - loss: 0.1358 - mean_absolute_error: 0.2385 - val_loss: 0.1097 - val_mean_absolute_error: 0.2311\n",
      "Epoch 14/50\n",
      "893/893 [==============================] - 23s 26ms/step - loss: 0.1325 - mean_absolute_error: 0.2351 - val_loss: 0.0936 - val_mean_absolute_error: 0.2139\n",
      "Epoch 15/50\n",
      "893/893 [==============================] - 23s 26ms/step - loss: 0.1303 - mean_absolute_error: 0.2324 - val_loss: 0.0953 - val_mean_absolute_error: 0.2130\n",
      "Epoch 16/50\n",
      "893/893 [==============================] - 24s 26ms/step - loss: 0.1263 - mean_absolute_error: 0.2283 - val_loss: 0.0945 - val_mean_absolute_error: 0.2087\n",
      "Epoch 17/50\n",
      "893/893 [==============================] - 23s 26ms/step - loss: 0.1243 - mean_absolute_error: 0.2260 - val_loss: 0.0922 - val_mean_absolute_error: 0.2119\n",
      "Epoch 18/50\n",
      "893/893 [==============================] - 23s 26ms/step - loss: 0.1210 - mean_absolute_error: 0.2232 - val_loss: 0.0918 - val_mean_absolute_error: 0.2048\n",
      "Epoch 19/50\n",
      "893/893 [==============================] - 23s 26ms/step - loss: 0.1210 - mean_absolute_error: 0.2225 - val_loss: 0.0952 - val_mean_absolute_error: 0.2158\n",
      "Epoch 20/50\n",
      "893/893 [==============================] - 23s 26ms/step - loss: 0.1170 - mean_absolute_error: 0.2187 - val_loss: 0.0841 - val_mean_absolute_error: 0.1970\n",
      "Epoch 21/50\n",
      "893/893 [==============================] - 23s 26ms/step - loss: 0.1172 - mean_absolute_error: 0.2183 - val_loss: 0.0842 - val_mean_absolute_error: 0.2015\n",
      "Epoch 22/50\n",
      "893/893 [==============================] - 23s 26ms/step - loss: 0.1146 - mean_absolute_error: 0.2157 - val_loss: 0.0844 - val_mean_absolute_error: 0.1989\n",
      "Epoch 23/50\n",
      "893/893 [==============================] - 23s 25ms/step - loss: 0.1134 - mean_absolute_error: 0.2146 - val_loss: 0.0844 - val_mean_absolute_error: 0.1973\n",
      "Epoch 24/50\n",
      "893/893 [==============================] - 21s 24ms/step - loss: 0.1117 - mean_absolute_error: 0.2130 - val_loss: 0.0835 - val_mean_absolute_error: 0.1938\n",
      "Epoch 25/50\n",
      "893/893 [==============================] - 23s 26ms/step - loss: 0.1109 - mean_absolute_error: 0.2122 - val_loss: 0.0907 - val_mean_absolute_error: 0.2022\n",
      "Epoch 26/50\n",
      "893/893 [==============================] - 23s 26ms/step - loss: 0.1100 - mean_absolute_error: 0.2108 - val_loss: 0.0844 - val_mean_absolute_error: 0.1963\n",
      "Epoch 27/50\n",
      "893/893 [==============================] - 22s 25ms/step - loss: 0.1091 - mean_absolute_error: 0.2099 - val_loss: 0.0877 - val_mean_absolute_error: 0.1987\n",
      "Epoch 28/50\n",
      "893/893 [==============================] - 22s 24ms/step - loss: 0.1084 - mean_absolute_error: 0.2090 - val_loss: 0.0896 - val_mean_absolute_error: 0.1997\n",
      "Epoch 29/50\n",
      "893/893 [==============================] - 21s 24ms/step - loss: 0.1065 - mean_absolute_error: 0.2072 - val_loss: 0.0773 - val_mean_absolute_error: 0.1891\n",
      "Epoch 30/50\n",
      "893/893 [==============================] - 22s 24ms/step - loss: 0.1073 - mean_absolute_error: 0.2076 - val_loss: 0.0895 - val_mean_absolute_error: 0.1983\n",
      "Epoch 31/50\n",
      "893/893 [==============================] - 21s 24ms/step - loss: 0.1057 - mean_absolute_error: 0.2064 - val_loss: 0.0811 - val_mean_absolute_error: 0.1883\n",
      "Epoch 32/50\n",
      "893/893 [==============================] - 21s 24ms/step - loss: 0.1042 - mean_absolute_error: 0.2046 - val_loss: 0.0772 - val_mean_absolute_error: 0.1827\n",
      "Epoch 33/50\n",
      "893/893 [==============================] - 21s 23ms/step - loss: 0.1041 - mean_absolute_error: 0.2044 - val_loss: 0.0789 - val_mean_absolute_error: 0.1889\n",
      "Epoch 34/50\n",
      "893/893 [==============================] - 21s 24ms/step - loss: 0.1033 - mean_absolute_error: 0.2038 - val_loss: 0.0751 - val_mean_absolute_error: 0.1845\n",
      "Epoch 35/50\n",
      "893/893 [==============================] - 21s 23ms/step - loss: 0.1036 - mean_absolute_error: 0.2033 - val_loss: 0.0829 - val_mean_absolute_error: 0.1906\n",
      "Epoch 36/50\n",
      "893/893 [==============================] - 21s 23ms/step - loss: 0.1023 - mean_absolute_error: 0.2024 - val_loss: 0.0781 - val_mean_absolute_error: 0.1902\n",
      "Epoch 37/50\n",
      "893/893 [==============================] - 21s 24ms/step - loss: 0.1004 - mean_absolute_error: 0.2006 - val_loss: 0.0925 - val_mean_absolute_error: 0.2063\n",
      "Epoch 38/50\n",
      "893/893 [==============================] - 21s 23ms/step - loss: 0.1011 - mean_absolute_error: 0.2010 - val_loss: 0.0749 - val_mean_absolute_error: 0.1800\n",
      "Epoch 39/50\n",
      "893/893 [==============================] - 20s 22ms/step - loss: 0.1001 - mean_absolute_error: 0.1997 - val_loss: 0.0900 - val_mean_absolute_error: 0.2030\n",
      "Epoch 40/50\n",
      "893/893 [==============================] - 20s 23ms/step - loss: 0.1000 - mean_absolute_error: 0.2003 - val_loss: 0.0833 - val_mean_absolute_error: 0.1893\n",
      "Epoch 41/50\n",
      "893/893 [==============================] - 21s 23ms/step - loss: 0.0993 - mean_absolute_error: 0.1989 - val_loss: 0.0757 - val_mean_absolute_error: 0.1819\n",
      "Epoch 42/50\n",
      "893/893 [==============================] - 21s 23ms/step - loss: 0.0975 - mean_absolute_error: 0.1976 - val_loss: 0.0746 - val_mean_absolute_error: 0.1813\n",
      "Epoch 43/50\n",
      "893/893 [==============================] - 21s 24ms/step - loss: 0.0967 - mean_absolute_error: 0.1968 - val_loss: 0.0826 - val_mean_absolute_error: 0.1866\n",
      "Epoch 44/50\n",
      "893/893 [==============================] - 21s 24ms/step - loss: 0.0964 - mean_absolute_error: 0.1964 - val_loss: 0.0780 - val_mean_absolute_error: 0.1841\n",
      "Epoch 45/50\n",
      "893/893 [==============================] - 22s 24ms/step - loss: 0.0971 - mean_absolute_error: 0.1972 - val_loss: 0.0774 - val_mean_absolute_error: 0.1823\n",
      "Epoch 46/50\n",
      "893/893 [==============================] - 21s 24ms/step - loss: 0.0958 - mean_absolute_error: 0.1958 - val_loss: 0.0773 - val_mean_absolute_error: 0.1826\n",
      "Epoch 47/50\n",
      "893/893 [==============================] - 21s 24ms/step - loss: 0.0958 - mean_absolute_error: 0.1953 - val_loss: 0.0785 - val_mean_absolute_error: 0.1815\n",
      "Epoch 48/50\n",
      "893/893 [==============================] - 21s 24ms/step - loss: 0.0958 - mean_absolute_error: 0.1954 - val_loss: 0.0767 - val_mean_absolute_error: 0.1796\n",
      "Epoch 49/50\n",
      "893/893 [==============================] - 21s 24ms/step - loss: 0.0938 - mean_absolute_error: 0.1939 - val_loss: 0.0800 - val_mean_absolute_error: 0.1833\n",
      "Epoch 50/50\n",
      "893/893 [==============================] - 21s 23ms/step - loss: 0.0946 - mean_absolute_error: 0.1945 - val_loss: 0.0798 - val_mean_absolute_error: 0.1819\n"
     ]
    }
   ],
   "source": [
    "hist = compile_and_fit(layer_model, window_7_1_3, 10, 50)"
   ]
  },
  {
   "cell_type": "code",
   "execution_count": 39,
   "metadata": {
    "colab": {
     "base_uri": "https://localhost:8080/",
     "height": 283
    },
    "id": "HWQq_8IQ8HmH",
    "outputId": "88f85828-d457-48af-beb4-e0279c129d42"
   },
   "outputs": [
    {
     "data": {
      "image/png": "[encoded data removed]",
      "text/plain": [
       "<Figure size 432x288 with 1 Axes>"
      ]
     },
     "metadata": {
      "needs_background": "light"
     },
     "output_type": "display_data"
    }
   ],
   "source": [
    "plot_results(hist)"
   ]
  },
  {
   "cell_type": "markdown",
   "metadata": {
    "id": "DZVc6iQ28qI3"
   },
   "source": [
    "# **PARAMETER TUNING: LAYERS AND UNITS**"
   ]
  },
  {
   "cell_type": "code",
   "execution_count": 40,
   "metadata": {
    "id": "6ZHtkOhG8s26"
   },
   "outputs": [],
   "source": [
    "layerunit_model = tf.keras.models.Sequential([\n",
    "    tf.keras.layers.LSTM(9, return_sequences=True),\n",
    "    tf.keras.layers.LSTM(9, return_sequences=True),\n",
    "    tf.keras.layers.LSTM(9, return_sequences=True),\n",
    "    tf.keras.layers.LSTM(3),\n",
    "    tf.keras.layers.Dense(units=1)\n",
    "])"
   ]
  },
  {
   "cell_type": "code",
   "execution_count": 41,
   "metadata": {
    "colab": {
     "base_uri": "https://localhost:8080/"
    },
    "id": "pTfl0ER_8vpC",
    "outputId": "b4bae8b6-4681-44f9-daef-6c5bf77d4e71"
   },
   "outputs": [
    {
     "name": "stdout",
     "output_type": "stream",
     "text": [
      "Epoch 1/50\n",
      "893/893 [==============================] - 26s 21ms/step - loss: 0.4475 - mean_absolute_error: 0.5038 - val_loss: 0.3024 - val_mean_absolute_error: 0.4168\n",
      "Epoch 2/50\n",
      "893/893 [==============================] - 18s 20ms/step - loss: 0.3111 - mean_absolute_error: 0.3877 - val_loss: 0.2465 - val_mean_absolute_error: 0.3659\n",
      "Epoch 3/50\n",
      "893/893 [==============================] - 18s 20ms/step - loss: 0.2609 - mean_absolute_error: 0.3479 - val_loss: 0.1986 - val_mean_absolute_error: 0.3185\n",
      "Epoch 4/50\n",
      "893/893 [==============================] - 17s 19ms/step - loss: 0.2197 - mean_absolute_error: 0.3146 - val_loss: 0.1553 - val_mean_absolute_error: 0.2697\n",
      "Epoch 5/50\n",
      "893/893 [==============================] - 17s 19ms/step - loss: 0.1901 - mean_absolute_error: 0.2881 - val_loss: 0.1386 - val_mean_absolute_error: 0.2539\n",
      "Epoch 6/50\n",
      "893/893 [==============================] - 17s 19ms/step - loss: 0.1749 - mean_absolute_error: 0.2742 - val_loss: 0.1346 - val_mean_absolute_error: 0.2419\n",
      "Epoch 7/50\n",
      "893/893 [==============================] - 17s 19ms/step - loss: 0.1655 - mean_absolute_error: 0.2655 - val_loss: 0.1228 - val_mean_absolute_error: 0.2367\n",
      "Epoch 8/50\n",
      "893/893 [==============================] - 17s 19ms/step - loss: 0.1571 - mean_absolute_error: 0.2579 - val_loss: 0.1195 - val_mean_absolute_error: 0.2346\n",
      "Epoch 9/50\n",
      "893/893 [==============================] - 17s 19ms/step - loss: 0.1507 - mean_absolute_error: 0.2522 - val_loss: 0.1253 - val_mean_absolute_error: 0.2338\n",
      "Epoch 10/50\n",
      "893/893 [==============================] - 17s 19ms/step - loss: 0.1442 - mean_absolute_error: 0.2461 - val_loss: 0.1148 - val_mean_absolute_error: 0.2226\n",
      "Epoch 11/50\n",
      "893/893 [==============================] - 17s 19ms/step - loss: 0.1397 - mean_absolute_error: 0.2416 - val_loss: 0.1116 - val_mean_absolute_error: 0.2277\n",
      "Epoch 12/50\n",
      "893/893 [==============================] - 16s 18ms/step - loss: 0.1358 - mean_absolute_error: 0.2382 - val_loss: 0.1052 - val_mean_absolute_error: 0.2175\n",
      "Epoch 13/50\n",
      "893/893 [==============================] - 17s 19ms/step - loss: 0.1316 - mean_absolute_error: 0.2346 - val_loss: 0.0979 - val_mean_absolute_error: 0.2175\n",
      "Epoch 14/50\n",
      "893/893 [==============================] - 16s 18ms/step - loss: 0.1291 - mean_absolute_error: 0.2325 - val_loss: 0.0896 - val_mean_absolute_error: 0.2088\n",
      "Epoch 15/50\n",
      "893/893 [==============================] - 17s 19ms/step - loss: 0.1255 - mean_absolute_error: 0.2288 - val_loss: 0.0998 - val_mean_absolute_error: 0.2123\n",
      "Epoch 16/50\n",
      "893/893 [==============================] - 16s 18ms/step - loss: 0.1237 - mean_absolute_error: 0.2272 - val_loss: 0.0902 - val_mean_absolute_error: 0.2031\n",
      "Epoch 17/50\n",
      "893/893 [==============================] - 17s 19ms/step - loss: 0.1218 - mean_absolute_error: 0.2252 - val_loss: 0.0928 - val_mean_absolute_error: 0.2095\n",
      "Epoch 18/50\n",
      "893/893 [==============================] - 17s 18ms/step - loss: 0.1195 - mean_absolute_error: 0.2227 - val_loss: 0.0877 - val_mean_absolute_error: 0.2067\n",
      "Epoch 19/50\n",
      "893/893 [==============================] - 17s 19ms/step - loss: 0.1178 - mean_absolute_error: 0.2209 - val_loss: 0.0872 - val_mean_absolute_error: 0.2010\n",
      "Epoch 20/50\n",
      "893/893 [==============================] - 17s 19ms/step - loss: 0.1162 - mean_absolute_error: 0.2195 - val_loss: 0.0861 - val_mean_absolute_error: 0.2007\n",
      "Epoch 21/50\n",
      "893/893 [==============================] - 17s 19ms/step - loss: 0.1148 - mean_absolute_error: 0.2172 - val_loss: 0.0899 - val_mean_absolute_error: 0.2086\n",
      "Epoch 22/50\n",
      "893/893 [==============================] - 17s 19ms/step - loss: 0.1134 - mean_absolute_error: 0.2169 - val_loss: 0.0880 - val_mean_absolute_error: 0.2044\n",
      "Epoch 23/50\n",
      "893/893 [==============================] - 17s 18ms/step - loss: 0.1118 - mean_absolute_error: 0.2151 - val_loss: 0.0832 - val_mean_absolute_error: 0.1983\n",
      "Epoch 24/50\n",
      "893/893 [==============================] - 17s 18ms/step - loss: 0.1108 - mean_absolute_error: 0.2138 - val_loss: 0.0887 - val_mean_absolute_error: 0.2015\n",
      "Epoch 25/50\n",
      "893/893 [==============================] - 16s 18ms/step - loss: 0.1111 - mean_absolute_error: 0.2141 - val_loss: 0.0775 - val_mean_absolute_error: 0.1941\n",
      "Epoch 26/50\n",
      "893/893 [==============================] - 16s 18ms/step - loss: 0.1086 - mean_absolute_error: 0.2120 - val_loss: 0.0766 - val_mean_absolute_error: 0.1935\n",
      "Epoch 27/50\n",
      "893/893 [==============================] - 16s 18ms/step - loss: 0.1096 - mean_absolute_error: 0.2128 - val_loss: 0.0788 - val_mean_absolute_error: 0.1957\n",
      "Epoch 28/50\n",
      "893/893 [==============================] - 17s 18ms/step - loss: 0.1081 - mean_absolute_error: 0.2115 - val_loss: 0.0829 - val_mean_absolute_error: 0.1973\n",
      "Epoch 29/50\n",
      "893/893 [==============================] - 17s 19ms/step - loss: 0.1069 - mean_absolute_error: 0.2102 - val_loss: 0.0796 - val_mean_absolute_error: 0.1918\n",
      "Epoch 30/50\n",
      "893/893 [==============================] - 17s 19ms/step - loss: 0.1074 - mean_absolute_error: 0.2107 - val_loss: 0.0786 - val_mean_absolute_error: 0.1912\n",
      "Epoch 31/50\n",
      "893/893 [==============================] - 17s 19ms/step - loss: 0.1055 - mean_absolute_error: 0.2094 - val_loss: 0.0778 - val_mean_absolute_error: 0.1906\n",
      "Epoch 32/50\n",
      "893/893 [==============================] - 17s 19ms/step - loss: 0.1049 - mean_absolute_error: 0.2083 - val_loss: 0.0782 - val_mean_absolute_error: 0.1924\n",
      "Epoch 33/50\n",
      "893/893 [==============================] - 17s 19ms/step - loss: 0.1041 - mean_absolute_error: 0.2078 - val_loss: 0.0763 - val_mean_absolute_error: 0.1894\n",
      "Epoch 34/50\n",
      "893/893 [==============================] - 17s 19ms/step - loss: 0.1047 - mean_absolute_error: 0.2082 - val_loss: 0.0751 - val_mean_absolute_error: 0.1874\n",
      "Epoch 35/50\n",
      "893/893 [==============================] - 17s 19ms/step - loss: 0.1030 - mean_absolute_error: 0.2067 - val_loss: 0.0727 - val_mean_absolute_error: 0.1861\n",
      "Epoch 36/50\n",
      "893/893 [==============================] - 17s 19ms/step - loss: 0.1024 - mean_absolute_error: 0.2057 - val_loss: 0.0749 - val_mean_absolute_error: 0.1884\n",
      "Epoch 37/50\n",
      "893/893 [==============================] - 17s 19ms/step - loss: 0.1020 - mean_absolute_error: 0.2056 - val_loss: 0.0776 - val_mean_absolute_error: 0.1912\n",
      "Epoch 38/50\n",
      "893/893 [==============================] - 17s 19ms/step - loss: 0.1019 - mean_absolute_error: 0.2052 - val_loss: 0.0796 - val_mean_absolute_error: 0.1943\n",
      "Epoch 39/50\n",
      "893/893 [==============================] - 17s 19ms/step - loss: 0.1017 - mean_absolute_error: 0.2051 - val_loss: 0.0793 - val_mean_absolute_error: 0.1927\n",
      "Epoch 40/50\n",
      "893/893 [==============================] - 17s 19ms/step - loss: 0.1002 - mean_absolute_error: 0.2034 - val_loss: 0.0725 - val_mean_absolute_error: 0.1837\n",
      "Epoch 41/50\n",
      "893/893 [==============================] - 17s 19ms/step - loss: 0.0994 - mean_absolute_error: 0.2025 - val_loss: 0.0736 - val_mean_absolute_error: 0.1854\n",
      "Epoch 42/50\n",
      "893/893 [==============================] - 17s 19ms/step - loss: 0.0992 - mean_absolute_error: 0.2027 - val_loss: 0.0753 - val_mean_absolute_error: 0.1886\n",
      "Epoch 43/50\n",
      "893/893 [==============================] - 17s 19ms/step - loss: 0.0984 - mean_absolute_error: 0.2017 - val_loss: 0.0781 - val_mean_absolute_error: 0.1905\n",
      "Epoch 44/50\n",
      "893/893 [==============================] - 17s 19ms/step - loss: 0.0982 - mean_absolute_error: 0.2018 - val_loss: 0.0709 - val_mean_absolute_error: 0.1803\n",
      "Epoch 45/50\n",
      "893/893 [==============================] - 17s 19ms/step - loss: 0.0987 - mean_absolute_error: 0.2017 - val_loss: 0.0742 - val_mean_absolute_error: 0.1851\n",
      "Epoch 46/50\n",
      "893/893 [==============================] - 17s 19ms/step - loss: 0.0964 - mean_absolute_error: 0.1997 - val_loss: 0.0779 - val_mean_absolute_error: 0.1897\n",
      "Epoch 47/50\n",
      "893/893 [==============================] - 17s 19ms/step - loss: 0.0970 - mean_absolute_error: 0.2002 - val_loss: 0.0753 - val_mean_absolute_error: 0.1850\n",
      "Epoch 48/50\n",
      "893/893 [==============================] - 17s 19ms/step - loss: 0.0960 - mean_absolute_error: 0.1991 - val_loss: 0.0730 - val_mean_absolute_error: 0.1819\n",
      "Epoch 49/50\n",
      "893/893 [==============================] - 17s 19ms/step - loss: 0.0956 - mean_absolute_error: 0.1989 - val_loss: 0.0774 - val_mean_absolute_error: 0.1888\n",
      "Epoch 50/50\n",
      "893/893 [==============================] - 16s 18ms/step - loss: 0.0958 - mean_absolute_error: 0.1991 - val_loss: 0.0723 - val_mean_absolute_error: 0.1813\n"
     ]
    }
   ],
   "source": [
    "hist = compile_and_fit(layerunit_model, window_7_1_3, 20, 50)"
   ]
  },
  {
   "cell_type": "code",
   "execution_count": 42,
   "metadata": {
    "colab": {
     "base_uri": "https://localhost:8080/",
     "height": 283
    },
    "id": "9YxrXoEU8Kwu",
    "outputId": "af8aae5d-7975-4414-ecee-5c09f06675c4"
   },
   "outputs": [
    {
     "data": {
      "image/png": "[encoded data removed]",
      "text/plain": [
       "<Figure size 432x288 with 1 Axes>"
      ]
     },
     "metadata": {
      "needs_background": "light"
     },
     "output_type": "display_data"
    }
   ],
   "source": [
    "plot_results(hist)"
   ]
  },
  {
   "cell_type": "markdown",
   "metadata": {
    "id": "SONuRffcLTkB"
   },
   "source": [
    "# **PARAMETER TUNING: ADDITIONAL DENSE LAYERS (Runner UP Model)**"
   ]
  },
  {
   "cell_type": "code",
   "execution_count": 43,
   "metadata": {
    "id": "Tk_PyT1bLSax"
   },
   "outputs": [],
   "source": [
    "dense_model = tf.keras.models.Sequential([\n",
    "    tf.keras.layers.LSTM(9, return_sequences=True),\n",
    "    tf.keras.layers.LSTM(9, return_sequences=True),\n",
    "    tf.keras.layers.LSTM(9, return_sequences=True),\n",
    "    tf.keras.layers.LSTM(3),\n",
    "    tf.keras.layers.Dropout(.1),\n",
    "    tf.keras.layers.Dense(units=9),\n",
    "    tf.keras.layers.Dense(units=3),\n",
    "    tf.keras.layers.Dense(units=1)\n",
    "])"
   ]
  },
  {
   "cell_type": "code",
   "execution_count": 44,
   "metadata": {
    "colab": {
     "base_uri": "https://localhost:8080/"
    },
    "id": "8wJaWoR3LdDy",
    "outputId": "0fcb38a1-797f-4d88-8b1d-2c2217485a5a"
   },
   "outputs": [
    {
     "name": "stdout",
     "output_type": "stream",
     "text": [
      "Epoch 1/50\n",
      "893/893 [==============================] - 25s 20ms/step - loss: 0.4594 - mean_absolute_error: 0.5078 - val_loss: 0.2477 - val_mean_absolute_error: 0.3691\n",
      "Epoch 2/50\n",
      "893/893 [==============================] - 17s 19ms/step - loss: 0.3520 - mean_absolute_error: 0.4273 - val_loss: 0.2329 - val_mean_absolute_error: 0.3488\n",
      "Epoch 3/50\n",
      "893/893 [==============================] - 17s 19ms/step - loss: 0.3141 - mean_absolute_error: 0.4003 - val_loss: 0.2171 - val_mean_absolute_error: 0.3414\n",
      "Epoch 4/50\n",
      "893/893 [==============================] - 17s 19ms/step - loss: 0.2771 - mean_absolute_error: 0.3747 - val_loss: 0.1694 - val_mean_absolute_error: 0.2934\n",
      "Epoch 5/50\n",
      "893/893 [==============================] - 17s 19ms/step - loss: 0.2486 - mean_absolute_error: 0.3528 - val_loss: 0.1580 - val_mean_absolute_error: 0.2766\n",
      "Epoch 6/50\n",
      "893/893 [==============================] - 17s 18ms/step - loss: 0.2230 - mean_absolute_error: 0.3306 - val_loss: 0.1277 - val_mean_absolute_error: 0.2504\n",
      "Epoch 7/50\n",
      "893/893 [==============================] - 17s 19ms/step - loss: 0.2079 - mean_absolute_error: 0.3167 - val_loss: 0.1199 - val_mean_absolute_error: 0.2402\n",
      "Epoch 8/50\n",
      "893/893 [==============================] - 17s 18ms/step - loss: 0.1965 - mean_absolute_error: 0.3058 - val_loss: 0.1098 - val_mean_absolute_error: 0.2228\n",
      "Epoch 9/50\n",
      "893/893 [==============================] - 17s 19ms/step - loss: 0.1879 - mean_absolute_error: 0.2985 - val_loss: 0.1106 - val_mean_absolute_error: 0.2240\n",
      "Epoch 10/50\n",
      "893/893 [==============================] - 17s 19ms/step - loss: 0.1789 - mean_absolute_error: 0.2902 - val_loss: 0.0985 - val_mean_absolute_error: 0.2151\n",
      "Epoch 11/50\n",
      "893/893 [==============================] - 17s 19ms/step - loss: 0.1739 - mean_absolute_error: 0.2860 - val_loss: 0.0995 - val_mean_absolute_error: 0.2150\n",
      "Epoch 12/50\n",
      "893/893 [==============================] - 17s 19ms/step - loss: 0.1707 - mean_absolute_error: 0.2830 - val_loss: 0.0974 - val_mean_absolute_error: 0.2178\n",
      "Epoch 13/50\n",
      "893/893 [==============================] - 17s 19ms/step - loss: 0.1671 - mean_absolute_error: 0.2801 - val_loss: 0.0982 - val_mean_absolute_error: 0.2212\n",
      "Epoch 14/50\n",
      "893/893 [==============================] - 17s 19ms/step - loss: 0.1640 - mean_absolute_error: 0.2771 - val_loss: 0.0932 - val_mean_absolute_error: 0.2111\n",
      "Epoch 15/50\n",
      "893/893 [==============================] - 17s 19ms/step - loss: 0.1609 - mean_absolute_error: 0.2743 - val_loss: 0.0949 - val_mean_absolute_error: 0.2127\n",
      "Epoch 16/50\n",
      "893/893 [==============================] - 17s 20ms/step - loss: 0.1597 - mean_absolute_error: 0.2742 - val_loss: 0.0931 - val_mean_absolute_error: 0.1999\n",
      "Epoch 17/50\n",
      "893/893 [==============================] - 17s 19ms/step - loss: 0.1567 - mean_absolute_error: 0.2714 - val_loss: 0.0885 - val_mean_absolute_error: 0.2067\n",
      "Epoch 18/50\n",
      "893/893 [==============================] - 17s 19ms/step - loss: 0.1544 - mean_absolute_error: 0.2687 - val_loss: 0.0924 - val_mean_absolute_error: 0.2062\n",
      "Epoch 19/50\n",
      "893/893 [==============================] - 17s 19ms/step - loss: 0.1541 - mean_absolute_error: 0.2694 - val_loss: 0.0840 - val_mean_absolute_error: 0.1877\n",
      "Epoch 20/50\n",
      "893/893 [==============================] - 17s 19ms/step - loss: 0.1533 - mean_absolute_error: 0.2684 - val_loss: 0.0869 - val_mean_absolute_error: 0.2037\n",
      "Epoch 21/50\n",
      "893/893 [==============================] - 17s 19ms/step - loss: 0.1503 - mean_absolute_error: 0.2650 - val_loss: 0.0847 - val_mean_absolute_error: 0.1887\n",
      "Epoch 22/50\n",
      "893/893 [==============================] - 17s 19ms/step - loss: 0.1469 - mean_absolute_error: 0.2622 - val_loss: 0.0837 - val_mean_absolute_error: 0.1968\n",
      "Epoch 23/50\n",
      "893/893 [==============================] - 17s 19ms/step - loss: 0.1477 - mean_absolute_error: 0.2627 - val_loss: 0.0849 - val_mean_absolute_error: 0.1964\n",
      "Epoch 24/50\n",
      "893/893 [==============================] - 17s 19ms/step - loss: 0.1465 - mean_absolute_error: 0.2610 - val_loss: 0.0853 - val_mean_absolute_error: 0.1979\n",
      "Epoch 25/50\n",
      "893/893 [==============================] - 17s 19ms/step - loss: 0.1444 - mean_absolute_error: 0.2599 - val_loss: 0.0815 - val_mean_absolute_error: 0.1964\n",
      "Epoch 26/50\n",
      "893/893 [==============================] - 17s 19ms/step - loss: 0.1438 - mean_absolute_error: 0.2603 - val_loss: 0.0820 - val_mean_absolute_error: 0.1965\n",
      "Epoch 27/50\n",
      "893/893 [==============================] - 17s 19ms/step - loss: 0.1435 - mean_absolute_error: 0.2593 - val_loss: 0.0849 - val_mean_absolute_error: 0.2016\n",
      "Epoch 28/50\n",
      "893/893 [==============================] - 17s 19ms/step - loss: 0.1425 - mean_absolute_error: 0.2585 - val_loss: 0.0816 - val_mean_absolute_error: 0.1955\n",
      "Epoch 29/50\n",
      "893/893 [==============================] - 17s 19ms/step - loss: 0.1405 - mean_absolute_error: 0.2563 - val_loss: 0.0791 - val_mean_absolute_error: 0.1927\n",
      "Epoch 30/50\n",
      "893/893 [==============================] - 17s 19ms/step - loss: 0.1400 - mean_absolute_error: 0.2560 - val_loss: 0.0845 - val_mean_absolute_error: 0.1977\n",
      "Epoch 31/50\n",
      "893/893 [==============================] - 17s 19ms/step - loss: 0.1411 - mean_absolute_error: 0.2563 - val_loss: 0.0846 - val_mean_absolute_error: 0.2026\n",
      "Epoch 32/50\n",
      "893/893 [==============================] - 17s 19ms/step - loss: 0.1391 - mean_absolute_error: 0.2547 - val_loss: 0.0807 - val_mean_absolute_error: 0.1943\n",
      "Epoch 33/50\n",
      "893/893 [==============================] - 17s 19ms/step - loss: 0.1391 - mean_absolute_error: 0.2550 - val_loss: 0.0814 - val_mean_absolute_error: 0.1948\n",
      "Epoch 34/50\n",
      "893/893 [==============================] - 17s 19ms/step - loss: 0.1358 - mean_absolute_error: 0.2522 - val_loss: 0.0836 - val_mean_absolute_error: 0.2050\n",
      "Epoch 35/50\n",
      "893/893 [==============================] - 17s 19ms/step - loss: 0.1352 - mean_absolute_error: 0.2515 - val_loss: 0.0790 - val_mean_absolute_error: 0.1890\n",
      "Epoch 36/50\n",
      "893/893 [==============================] - 17s 19ms/step - loss: 0.1370 - mean_absolute_error: 0.2539 - val_loss: 0.0777 - val_mean_absolute_error: 0.1850\n",
      "Epoch 37/50\n",
      "893/893 [==============================] - 17s 19ms/step - loss: 0.1351 - mean_absolute_error: 0.2514 - val_loss: 0.0906 - val_mean_absolute_error: 0.2070\n",
      "Epoch 38/50\n",
      "893/893 [==============================] - 17s 19ms/step - loss: 0.1358 - mean_absolute_error: 0.2531 - val_loss: 0.0804 - val_mean_absolute_error: 0.1907\n",
      "Epoch 39/50\n",
      "893/893 [==============================] - 17s 19ms/step - loss: 0.1330 - mean_absolute_error: 0.2495 - val_loss: 0.0748 - val_mean_absolute_error: 0.1848\n",
      "Epoch 40/50\n",
      "893/893 [==============================] - 17s 19ms/step - loss: 0.1326 - mean_absolute_error: 0.2493 - val_loss: 0.0812 - val_mean_absolute_error: 0.2013\n",
      "Epoch 41/50\n",
      "893/893 [==============================] - 17s 19ms/step - loss: 0.1310 - mean_absolute_error: 0.2483 - val_loss: 0.0808 - val_mean_absolute_error: 0.1924\n",
      "Epoch 42/50\n",
      "893/893 [==============================] - 17s 19ms/step - loss: 0.1322 - mean_absolute_error: 0.2491 - val_loss: 0.0741 - val_mean_absolute_error: 0.1883\n",
      "Epoch 43/50\n",
      "893/893 [==============================] - 17s 19ms/step - loss: 0.1310 - mean_absolute_error: 0.2478 - val_loss: 0.0784 - val_mean_absolute_error: 0.1886\n",
      "Epoch 44/50\n",
      "893/893 [==============================] - 18s 20ms/step - loss: 0.1291 - mean_absolute_error: 0.2459 - val_loss: 0.0810 - val_mean_absolute_error: 0.1978\n",
      "Epoch 45/50\n",
      "893/893 [==============================] - 17s 19ms/step - loss: 0.1290 - mean_absolute_error: 0.2461 - val_loss: 0.0812 - val_mean_absolute_error: 0.1939\n",
      "Epoch 46/50\n",
      "893/893 [==============================] - 17s 19ms/step - loss: 0.1290 - mean_absolute_error: 0.2460 - val_loss: 0.0795 - val_mean_absolute_error: 0.1916\n",
      "Epoch 47/50\n",
      "893/893 [==============================] - 17s 20ms/step - loss: 0.1295 - mean_absolute_error: 0.2463 - val_loss: 0.0749 - val_mean_absolute_error: 0.1899\n",
      "Epoch 48/50\n",
      "893/893 [==============================] - 17s 19ms/step - loss: 0.1280 - mean_absolute_error: 0.2445 - val_loss: 0.0781 - val_mean_absolute_error: 0.1864\n",
      "Epoch 49/50\n",
      "893/893 [==============================] - 17s 19ms/step - loss: 0.1288 - mean_absolute_error: 0.2456 - val_loss: 0.0778 - val_mean_absolute_error: 0.1856\n",
      "Epoch 50/50\n",
      "893/893 [==============================] - 17s 19ms/step - loss: 0.1272 - mean_absolute_error: 0.2449 - val_loss: 0.0751 - val_mean_absolute_error: 0.1898\n"
     ]
    }
   ],
   "source": [
    "hist = compile_and_fit(dense_model, window_7_1_3, 20, 50)"
   ]
  },
  {
   "cell_type": "code",
   "execution_count": 45,
   "metadata": {
    "colab": {
     "base_uri": "https://localhost:8080/",
     "height": 283
    },
    "id": "9wQWuCXh8NYz",
    "outputId": "4ed3280c-5484-4d5e-dd5d-cf2e09ea4120"
   },
   "outputs": [
    {
     "data": {
      "image/png": "[encoded data removed]",
      "text/plain": [
       "<Figure size 432x288 with 1 Axes>"
      ]
     },
     "metadata": {
      "needs_background": "light"
     },
     "output_type": "display_data"
    }
   ],
   "source": [
    "plot_results(hist)"
   ]
  },
  {
   "cell_type": "code",
   "execution_count": 46,
   "metadata": {
    "id": "J7bugaR-u9Ki"
   },
   "outputs": [],
   "source": [
    "make_predictions(dense_model, window_7_1_3)"
   ]
  },
  {
   "cell_type": "markdown",
   "metadata": {
    "id": "ey4Xa0FwuPth"
   },
   "source": [
    "# **EXPERIMENT: BIDIRECTIONAL RNN**"
   ]
  },
  {
   "cell_type": "code",
   "execution_count": 47,
   "metadata": {
    "id": "nIhodRxKuTMx"
   },
   "outputs": [],
   "source": [
    "bi_model = tf.keras.models.Sequential([\n",
    "    tf.keras.layers.Bidirectional(tf.keras.layers.LSTM(9, return_sequences=True)),\n",
    "    tf.keras.layers.Bidirectional(tf.keras.layers.LSTM(9, return_sequences=True)),\n",
    "    tf.keras.layers.Bidirectional(tf.keras.layers.LSTM(9, return_sequences=True)),\n",
    "    tf.keras.layers.Bidirectional(tf.keras.layers.LSTM(3)),\n",
    "    tf.keras.layers.Dense(units=10),\n",
    "    tf.keras.layers.Dense(units=1)\n",
    "])"
   ]
  },
  {
   "cell_type": "code",
   "execution_count": 48,
   "metadata": {
    "colab": {
     "base_uri": "https://localhost:8080/"
    },
    "id": "ARYAS18quktN",
    "outputId": "b2fce8c5-5f32-4c65-ac1e-b5d0fb050242"
   },
   "outputs": [
    {
     "name": "stdout",
     "output_type": "stream",
     "text": [
      "Epoch 1/50\n",
      "893/893 [==============================] - 37s 26ms/step - loss: 0.3737 - mean_absolute_error: 0.4408 - val_loss: 0.2256 - val_mean_absolute_error: 0.3339\n",
      "Epoch 2/50\n",
      "893/893 [==============================] - 21s 23ms/step - loss: 0.2519 - mean_absolute_error: 0.3400 - val_loss: 0.1726 - val_mean_absolute_error: 0.2898\n",
      "Epoch 3/50\n",
      "893/893 [==============================] - 21s 23ms/step - loss: 0.2003 - mean_absolute_error: 0.2967 - val_loss: 0.1235 - val_mean_absolute_error: 0.2387\n",
      "Epoch 4/50\n",
      "893/893 [==============================] - 21s 23ms/step - loss: 0.1718 - mean_absolute_error: 0.2700 - val_loss: 0.1155 - val_mean_absolute_error: 0.2288\n",
      "Epoch 5/50\n",
      "893/893 [==============================] - 20s 23ms/step - loss: 0.1595 - mean_absolute_error: 0.2578 - val_loss: 0.1050 - val_mean_absolute_error: 0.2153\n",
      "Epoch 6/50\n",
      "893/893 [==============================] - 21s 23ms/step - loss: 0.1512 - mean_absolute_error: 0.2492 - val_loss: 0.1010 - val_mean_absolute_error: 0.2166\n",
      "Epoch 7/50\n",
      "893/893 [==============================] - 20s 22ms/step - loss: 0.1442 - mean_absolute_error: 0.2422 - val_loss: 0.1053 - val_mean_absolute_error: 0.2148\n",
      "Epoch 8/50\n",
      "893/893 [==============================] - 20s 23ms/step - loss: 0.1370 - mean_absolute_error: 0.2359 - val_loss: 0.1013 - val_mean_absolute_error: 0.2158\n",
      "Epoch 9/50\n",
      "893/893 [==============================] - 20s 22ms/step - loss: 0.1335 - mean_absolute_error: 0.2322 - val_loss: 0.0878 - val_mean_absolute_error: 0.1990\n",
      "Epoch 10/50\n",
      "893/893 [==============================] - 20s 23ms/step - loss: 0.1304 - mean_absolute_error: 0.2289 - val_loss: 0.1005 - val_mean_absolute_error: 0.1964\n",
      "Epoch 11/50\n",
      "893/893 [==============================] - 20s 23ms/step - loss: 0.1259 - mean_absolute_error: 0.2251 - val_loss: 0.0871 - val_mean_absolute_error: 0.1924\n",
      "Epoch 12/50\n",
      "893/893 [==============================] - 20s 22ms/step - loss: 0.1239 - mean_absolute_error: 0.2230 - val_loss: 0.0948 - val_mean_absolute_error: 0.1961\n",
      "Epoch 13/50\n",
      "893/893 [==============================] - 20s 23ms/step - loss: 0.1190 - mean_absolute_error: 0.2185 - val_loss: 0.0839 - val_mean_absolute_error: 0.1871\n",
      "Epoch 14/50\n",
      "893/893 [==============================] - 20s 23ms/step - loss: 0.1166 - mean_absolute_error: 0.2160 - val_loss: 0.0922 - val_mean_absolute_error: 0.1886\n",
      "Epoch 15/50\n",
      "893/893 [==============================] - 20s 23ms/step - loss: 0.1127 - mean_absolute_error: 0.2132 - val_loss: 0.0985 - val_mean_absolute_error: 0.1937\n",
      "Epoch 16/50\n",
      "893/893 [==============================] - 20s 23ms/step - loss: 0.1128 - mean_absolute_error: 0.2133 - val_loss: 0.0898 - val_mean_absolute_error: 0.1925\n",
      "Epoch 17/50\n",
      "893/893 [==============================] - 20s 23ms/step - loss: 0.1106 - mean_absolute_error: 0.2113 - val_loss: 0.0892 - val_mean_absolute_error: 0.1929\n",
      "Epoch 18/50\n",
      "893/893 [==============================] - 20s 22ms/step - loss: 0.1079 - mean_absolute_error: 0.2081 - val_loss: 0.0982 - val_mean_absolute_error: 0.1954\n",
      "Epoch 19/50\n",
      "893/893 [==============================] - 20s 22ms/step - loss: 0.1073 - mean_absolute_error: 0.2077 - val_loss: 0.0846 - val_mean_absolute_error: 0.1863\n",
      "Epoch 20/50\n",
      "893/893 [==============================] - 20s 22ms/step - loss: 0.1073 - mean_absolute_error: 0.2072 - val_loss: 0.0972 - val_mean_absolute_error: 0.1889\n",
      "Epoch 21/50\n",
      "893/893 [==============================] - 20s 23ms/step - loss: 0.1053 - mean_absolute_error: 0.2048 - val_loss: 0.0856 - val_mean_absolute_error: 0.1853\n",
      "Epoch 22/50\n",
      "893/893 [==============================] - 20s 23ms/step - loss: 0.1031 - mean_absolute_error: 0.2030 - val_loss: 0.0848 - val_mean_absolute_error: 0.1806\n",
      "Epoch 23/50\n",
      "893/893 [==============================] - 20s 23ms/step - loss: 0.1006 - mean_absolute_error: 0.2015 - val_loss: 0.0898 - val_mean_absolute_error: 0.1852\n",
      "Epoch 24/50\n",
      "893/893 [==============================] - 20s 23ms/step - loss: 0.1016 - mean_absolute_error: 0.2012 - val_loss: 0.0895 - val_mean_absolute_error: 0.1885\n",
      "Epoch 25/50\n",
      "893/893 [==============================] - 20s 22ms/step - loss: 0.0985 - mean_absolute_error: 0.1986 - val_loss: 0.0838 - val_mean_absolute_error: 0.1812\n",
      "Epoch 26/50\n",
      "893/893 [==============================] - 20s 22ms/step - loss: 0.0988 - mean_absolute_error: 0.1988 - val_loss: 0.0784 - val_mean_absolute_error: 0.1816\n",
      "Epoch 27/50\n",
      "893/893 [==============================] - 20s 23ms/step - loss: 0.0974 - mean_absolute_error: 0.1974 - val_loss: 0.0873 - val_mean_absolute_error: 0.1879\n",
      "Epoch 28/50\n",
      "893/893 [==============================] - 20s 23ms/step - loss: 0.0979 - mean_absolute_error: 0.1972 - val_loss: 0.0851 - val_mean_absolute_error: 0.1828\n",
      "Epoch 29/50\n",
      "893/893 [==============================] - 20s 23ms/step - loss: 0.0952 - mean_absolute_error: 0.1953 - val_loss: 0.0871 - val_mean_absolute_error: 0.1830\n",
      "Epoch 30/50\n",
      "893/893 [==============================] - 20s 22ms/step - loss: 0.0965 - mean_absolute_error: 0.1965 - val_loss: 0.0776 - val_mean_absolute_error: 0.1754\n",
      "Epoch 31/50\n",
      "893/893 [==============================] - 20s 23ms/step - loss: 0.0939 - mean_absolute_error: 0.1937 - val_loss: 0.0842 - val_mean_absolute_error: 0.1821\n",
      "Epoch 32/50\n",
      "893/893 [==============================] - 21s 23ms/step - loss: 0.0925 - mean_absolute_error: 0.1924 - val_loss: 0.0821 - val_mean_absolute_error: 0.1793\n",
      "Epoch 33/50\n",
      "893/893 [==============================] - 20s 23ms/step - loss: 0.0921 - mean_absolute_error: 0.1921 - val_loss: 0.0802 - val_mean_absolute_error: 0.1783\n",
      "Epoch 34/50\n",
      "893/893 [==============================] - 20s 23ms/step - loss: 0.0937 - mean_absolute_error: 0.1939 - val_loss: 0.0823 - val_mean_absolute_error: 0.1802\n",
      "Epoch 35/50\n",
      "893/893 [==============================] - 20s 23ms/step - loss: 0.0892 - mean_absolute_error: 0.1895 - val_loss: 0.0832 - val_mean_absolute_error: 0.1818\n",
      "Epoch 36/50\n",
      "893/893 [==============================] - 20s 23ms/step - loss: 0.0911 - mean_absolute_error: 0.1911 - val_loss: 0.0783 - val_mean_absolute_error: 0.1775\n",
      "Epoch 37/50\n",
      "893/893 [==============================] - 20s 23ms/step - loss: 0.0874 - mean_absolute_error: 0.1884 - val_loss: 0.0820 - val_mean_absolute_error: 0.1811\n",
      "Epoch 38/50\n",
      "893/893 [==============================] - 20s 23ms/step - loss: 0.0892 - mean_absolute_error: 0.1893 - val_loss: 0.0874 - val_mean_absolute_error: 0.1871\n",
      "Epoch 39/50\n",
      "893/893 [==============================] - 20s 23ms/step - loss: 0.0871 - mean_absolute_error: 0.1877 - val_loss: 0.0758 - val_mean_absolute_error: 0.1761\n",
      "Epoch 40/50\n",
      "893/893 [==============================] - 20s 23ms/step - loss: 0.0879 - mean_absolute_error: 0.1884 - val_loss: 0.0790 - val_mean_absolute_error: 0.1777\n",
      "Epoch 41/50\n",
      "893/893 [==============================] - 20s 23ms/step - loss: 0.0846 - mean_absolute_error: 0.1857 - val_loss: 0.0784 - val_mean_absolute_error: 0.1801\n",
      "Epoch 42/50\n",
      "893/893 [==============================] - 20s 23ms/step - loss: 0.0857 - mean_absolute_error: 0.1861 - val_loss: 0.0777 - val_mean_absolute_error: 0.1791\n",
      "Epoch 43/50\n",
      "893/893 [==============================] - 20s 23ms/step - loss: 0.0852 - mean_absolute_error: 0.1864 - val_loss: 0.0837 - val_mean_absolute_error: 0.1822\n",
      "Epoch 44/50\n",
      "893/893 [==============================] - 20s 23ms/step - loss: 0.0845 - mean_absolute_error: 0.1853 - val_loss: 0.0760 - val_mean_absolute_error: 0.1770\n",
      "Epoch 45/50\n",
      "893/893 [==============================] - 20s 23ms/step - loss: 0.0844 - mean_absolute_error: 0.1852 - val_loss: 0.0786 - val_mean_absolute_error: 0.1793\n",
      "Epoch 46/50\n",
      "893/893 [==============================] - 20s 22ms/step - loss: 0.0827 - mean_absolute_error: 0.1831 - val_loss: 0.0759 - val_mean_absolute_error: 0.1767\n",
      "Epoch 47/50\n",
      "893/893 [==============================] - 20s 23ms/step - loss: 0.0816 - mean_absolute_error: 0.1831 - val_loss: 0.0764 - val_mean_absolute_error: 0.1755\n",
      "Epoch 48/50\n",
      "893/893 [==============================] - 20s 23ms/step - loss: 0.0829 - mean_absolute_error: 0.1835 - val_loss: 0.0912 - val_mean_absolute_error: 0.1884\n",
      "Epoch 49/50\n",
      "893/893 [==============================] - 20s 23ms/step - loss: 0.0807 - mean_absolute_error: 0.1819 - val_loss: 0.0827 - val_mean_absolute_error: 0.1843\n",
      "Epoch 50/50\n",
      "893/893 [==============================] - 21s 23ms/step - loss: 0.0820 - mean_absolute_error: 0.1823 - val_loss: 0.0792 - val_mean_absolute_error: 0.1802\n"
     ]
    }
   ],
   "source": [
    "hist = compile_and_fit(bi_model, window_7_1_3, 20, 50)"
   ]
  },
  {
   "cell_type": "code",
   "execution_count": 49,
   "metadata": {
    "colab": {
     "base_uri": "https://localhost:8080/",
     "height": 283
    },
    "id": "54gWQTE18P2T",
    "outputId": "292b7bbf-c02a-454c-a080-3f4f23067517"
   },
   "outputs": [
    {
     "data": {
      "image/png": "[encoded data removed]",
      "text/plain": [
       "<Figure size 432x288 with 1 Axes>"
      ]
     },
     "metadata": {
      "needs_background": "light"
     },
     "output_type": "display_data"
    }
   ],
   "source": [
    "plot_results(hist)"
   ]
  },
  {
   "cell_type": "markdown",
   "metadata": {
    "id": "1RrnHRGDTj8P"
   },
   "source": [
    "# **PARAMETER TUNING: DROPOUT**"
   ]
  },
  {
   "cell_type": "code",
   "execution_count": 50,
   "metadata": {
    "id": "_E_l9qqaTpYT"
   },
   "outputs": [],
   "source": [
    "dropout_model = tf.keras.models.Sequential([\n",
    "    tf.keras.layers.LSTM(9, recurrent_dropout=.5, return_sequences=True),\n",
    "    tf.keras.layers.LSTM(9, return_sequences=True),\n",
    "    tf.keras.layers.LSTM(9, return_sequences=True),\n",
    "    tf.keras.layers.LSTM(3),\n",
    "    tf.keras.layers.Dropout(.1),\n",
    "    tf.keras.layers.Dense(units=9),\n",
    "    tf.keras.layers.Dense(units=3),\n",
    "    tf.keras.layers.Dense(units=1)\n",
    "])"
   ]
  },
  {
   "cell_type": "code",
   "execution_count": 51,
   "metadata": {
    "colab": {
     "base_uri": "https://localhost:8080/"
    },
    "id": "kSLo9U-ITu5i",
    "outputId": "c5ac8d24-7887-4dd6-f6d7-27eedf374885"
   },
   "outputs": [
    {
     "name": "stdout",
     "output_type": "stream",
     "text": [
      "Epoch 1/50\n",
      "893/893 [==============================] - 28s 22ms/step - loss: 0.4555 - mean_absolute_error: 0.5040 - val_loss: 0.2279 - val_mean_absolute_error: 0.3506\n",
      "Epoch 2/50\n",
      "893/893 [==============================] - 19s 21ms/step - loss: 0.3424 - mean_absolute_error: 0.4203 - val_loss: 0.2014 - val_mean_absolute_error: 0.3278\n",
      "Epoch 3/50\n",
      "893/893 [==============================] - 19s 21ms/step - loss: 0.2895 - mean_absolute_error: 0.3845 - val_loss: 0.1597 - val_mean_absolute_error: 0.2886\n",
      "Epoch 4/50\n",
      "893/893 [==============================] - 19s 21ms/step - loss: 0.2514 - mean_absolute_error: 0.3575 - val_loss: 0.1373 - val_mean_absolute_error: 0.2647\n",
      "Epoch 5/50\n",
      "893/893 [==============================] - 19s 21ms/step - loss: 0.2305 - mean_absolute_error: 0.3413 - val_loss: 0.1196 - val_mean_absolute_error: 0.2416\n",
      "Epoch 6/50\n",
      "893/893 [==============================] - 19s 21ms/step - loss: 0.2180 - mean_absolute_error: 0.3291 - val_loss: 0.1161 - val_mean_absolute_error: 0.2344\n",
      "Epoch 7/50\n",
      "893/893 [==============================] - 19s 21ms/step - loss: 0.2071 - mean_absolute_error: 0.3193 - val_loss: 0.1089 - val_mean_absolute_error: 0.2238\n",
      "Epoch 8/50\n",
      "893/893 [==============================] - 19s 22ms/step - loss: 0.1958 - mean_absolute_error: 0.3088 - val_loss: 0.1077 - val_mean_absolute_error: 0.2339\n",
      "Epoch 9/50\n",
      "893/893 [==============================] - 19s 22ms/step - loss: 0.1908 - mean_absolute_error: 0.3045 - val_loss: 0.0977 - val_mean_absolute_error: 0.2198\n",
      "Epoch 10/50\n",
      "893/893 [==============================] - 19s 21ms/step - loss: 0.1868 - mean_absolute_error: 0.3010 - val_loss: 0.0930 - val_mean_absolute_error: 0.2092\n",
      "Epoch 11/50\n",
      "893/893 [==============================] - 19s 21ms/step - loss: 0.1776 - mean_absolute_error: 0.2928 - val_loss: 0.0914 - val_mean_absolute_error: 0.2015\n",
      "Epoch 12/50\n",
      "893/893 [==============================] - 19s 21ms/step - loss: 0.1746 - mean_absolute_error: 0.2886 - val_loss: 0.0874 - val_mean_absolute_error: 0.1990\n",
      "Epoch 13/50\n",
      "893/893 [==============================] - 20s 22ms/step - loss: 0.1712 - mean_absolute_error: 0.2872 - val_loss: 0.0918 - val_mean_absolute_error: 0.2023\n",
      "Epoch 14/50\n",
      "893/893 [==============================] - 19s 21ms/step - loss: 0.1684 - mean_absolute_error: 0.2842 - val_loss: 0.0884 - val_mean_absolute_error: 0.1989\n",
      "Epoch 15/50\n",
      "893/893 [==============================] - 19s 21ms/step - loss: 0.1656 - mean_absolute_error: 0.2799 - val_loss: 0.0846 - val_mean_absolute_error: 0.1986\n",
      "Epoch 16/50\n",
      "893/893 [==============================] - 19s 21ms/step - loss: 0.1652 - mean_absolute_error: 0.2800 - val_loss: 0.0912 - val_mean_absolute_error: 0.2053\n",
      "Epoch 17/50\n",
      "893/893 [==============================] - 19s 21ms/step - loss: 0.1621 - mean_absolute_error: 0.2777 - val_loss: 0.0850 - val_mean_absolute_error: 0.1998\n",
      "Epoch 18/50\n",
      "893/893 [==============================] - 19s 21ms/step - loss: 0.1618 - mean_absolute_error: 0.2766 - val_loss: 0.0853 - val_mean_absolute_error: 0.1948\n",
      "Epoch 19/50\n",
      "893/893 [==============================] - 19s 21ms/step - loss: 0.1595 - mean_absolute_error: 0.2745 - val_loss: 0.0847 - val_mean_absolute_error: 0.1892\n",
      "Epoch 20/50\n",
      "893/893 [==============================] - 19s 21ms/step - loss: 0.1564 - mean_absolute_error: 0.2719 - val_loss: 0.0802 - val_mean_absolute_error: 0.1895\n",
      "Epoch 21/50\n",
      "893/893 [==============================] - 19s 21ms/step - loss: 0.1556 - mean_absolute_error: 0.2719 - val_loss: 0.0790 - val_mean_absolute_error: 0.1861\n",
      "Epoch 22/50\n",
      "893/893 [==============================] - 19s 21ms/step - loss: 0.1544 - mean_absolute_error: 0.2696 - val_loss: 0.0835 - val_mean_absolute_error: 0.1940\n",
      "Epoch 23/50\n",
      "893/893 [==============================] - 19s 21ms/step - loss: 0.1533 - mean_absolute_error: 0.2695 - val_loss: 0.0841 - val_mean_absolute_error: 0.2007\n",
      "Epoch 24/50\n",
      "893/893 [==============================] - 19s 22ms/step - loss: 0.1516 - mean_absolute_error: 0.2677 - val_loss: 0.0768 - val_mean_absolute_error: 0.1884\n",
      "Epoch 25/50\n",
      "893/893 [==============================] - 19s 22ms/step - loss: 0.1501 - mean_absolute_error: 0.2668 - val_loss: 0.0780 - val_mean_absolute_error: 0.1927\n",
      "Epoch 26/50\n",
      "893/893 [==============================] - 19s 21ms/step - loss: 0.1498 - mean_absolute_error: 0.2658 - val_loss: 0.0883 - val_mean_absolute_error: 0.2051\n",
      "Epoch 27/50\n",
      "893/893 [==============================] - 19s 21ms/step - loss: 0.1467 - mean_absolute_error: 0.2641 - val_loss: 0.0768 - val_mean_absolute_error: 0.1900\n",
      "Epoch 28/50\n",
      "893/893 [==============================] - 19s 21ms/step - loss: 0.1462 - mean_absolute_error: 0.2634 - val_loss: 0.0780 - val_mean_absolute_error: 0.1853\n",
      "Epoch 29/50\n",
      "893/893 [==============================] - 20s 22ms/step - loss: 0.1460 - mean_absolute_error: 0.2634 - val_loss: 0.0841 - val_mean_absolute_error: 0.2025\n",
      "Epoch 30/50\n",
      "893/893 [==============================] - 19s 21ms/step - loss: 0.1439 - mean_absolute_error: 0.2601 - val_loss: 0.0804 - val_mean_absolute_error: 0.1945\n",
      "Epoch 31/50\n",
      "893/893 [==============================] - 19s 22ms/step - loss: 0.1435 - mean_absolute_error: 0.2610 - val_loss: 0.0793 - val_mean_absolute_error: 0.1838\n",
      "Epoch 32/50\n",
      "893/893 [==============================] - 19s 21ms/step - loss: 0.1433 - mean_absolute_error: 0.2596 - val_loss: 0.0793 - val_mean_absolute_error: 0.1895\n",
      "Epoch 33/50\n",
      "893/893 [==============================] - 19s 21ms/step - loss: 0.1421 - mean_absolute_error: 0.2585 - val_loss: 0.0774 - val_mean_absolute_error: 0.1827\n",
      "Epoch 34/50\n",
      "893/893 [==============================] - 19s 21ms/step - loss: 0.1428 - mean_absolute_error: 0.2597 - val_loss: 0.0783 - val_mean_absolute_error: 0.1808\n",
      "Epoch 35/50\n",
      "893/893 [==============================] - 19s 21ms/step - loss: 0.1406 - mean_absolute_error: 0.2593 - val_loss: 0.0780 - val_mean_absolute_error: 0.1830\n",
      "Epoch 36/50\n",
      "893/893 [==============================] - 19s 21ms/step - loss: 0.1391 - mean_absolute_error: 0.2573 - val_loss: 0.0779 - val_mean_absolute_error: 0.1901\n",
      "Epoch 37/50\n",
      "893/893 [==============================] - 19s 21ms/step - loss: 0.1377 - mean_absolute_error: 0.2549 - val_loss: 0.0802 - val_mean_absolute_error: 0.1800\n",
      "Epoch 38/50\n",
      "893/893 [==============================] - 19s 21ms/step - loss: 0.1396 - mean_absolute_error: 0.2562 - val_loss: 0.0776 - val_mean_absolute_error: 0.1881\n",
      "Epoch 39/50\n",
      "893/893 [==============================] - 19s 21ms/step - loss: 0.1387 - mean_absolute_error: 0.2551 - val_loss: 0.0766 - val_mean_absolute_error: 0.1837\n",
      "Epoch 40/50\n",
      "893/893 [==============================] - 19s 21ms/step - loss: 0.1381 - mean_absolute_error: 0.2560 - val_loss: 0.0783 - val_mean_absolute_error: 0.1903\n",
      "Epoch 41/50\n",
      "893/893 [==============================] - 19s 21ms/step - loss: 0.1380 - mean_absolute_error: 0.2558 - val_loss: 0.0743 - val_mean_absolute_error: 0.1874\n",
      "Epoch 42/50\n",
      "893/893 [==============================] - 19s 21ms/step - loss: 0.1378 - mean_absolute_error: 0.2553 - val_loss: 0.0737 - val_mean_absolute_error: 0.1843\n",
      "Epoch 43/50\n",
      "893/893 [==============================] - 19s 21ms/step - loss: 0.1362 - mean_absolute_error: 0.2538 - val_loss: 0.0748 - val_mean_absolute_error: 0.1821\n",
      "Epoch 44/50\n",
      "893/893 [==============================] - 19s 21ms/step - loss: 0.1348 - mean_absolute_error: 0.2530 - val_loss: 0.0741 - val_mean_absolute_error: 0.1845\n",
      "Epoch 45/50\n",
      "893/893 [==============================] - 19s 22ms/step - loss: 0.1336 - mean_absolute_error: 0.2512 - val_loss: 0.0737 - val_mean_absolute_error: 0.1779\n",
      "Epoch 46/50\n",
      "893/893 [==============================] - 19s 21ms/step - loss: 0.1346 - mean_absolute_error: 0.2526 - val_loss: 0.0754 - val_mean_absolute_error: 0.1833\n",
      "Epoch 47/50\n",
      "893/893 [==============================] - 19s 21ms/step - loss: 0.1329 - mean_absolute_error: 0.2494 - val_loss: 0.0759 - val_mean_absolute_error: 0.1863\n",
      "Epoch 48/50\n",
      "893/893 [==============================] - 19s 21ms/step - loss: 0.1356 - mean_absolute_error: 0.2527 - val_loss: 0.0746 - val_mean_absolute_error: 0.1865\n",
      "Epoch 49/50\n",
      "893/893 [==============================] - 19s 21ms/step - loss: 0.1344 - mean_absolute_error: 0.2516 - val_loss: 0.0745 - val_mean_absolute_error: 0.1847\n",
      "Epoch 50/50\n",
      "893/893 [==============================] - 19s 21ms/step - loss: 0.1321 - mean_absolute_error: 0.2490 - val_loss: 0.0737 - val_mean_absolute_error: 0.1844\n"
     ]
    }
   ],
   "source": [
    "hist = compile_and_fit(dropout_model, window_7_1_3, 20, 50)"
   ]
  },
  {
   "cell_type": "code",
   "execution_count": 52,
   "metadata": {
    "colab": {
     "base_uri": "https://localhost:8080/",
     "height": 283
    },
    "id": "v8MSkBd38SYh",
    "outputId": "08b93d77-d093-4f8d-b741-65692cf2c62c"
   },
   "outputs": [
    {
     "data": {
      "image/png": "[encoded data removed]",
      "text/plain": [
       "<Figure size 432x288 with 1 Axes>"
      ]
     },
     "metadata": {
      "needs_background": "light"
     },
     "output_type": "display_data"
    }
   ],
   "source": [
    "plot_results(hist)"
   ]
  },
  {
   "cell_type": "markdown",
   "metadata": {
    "id": "laKGtPFl9CXX"
   },
   "source": [
    "# **Best Model**"
   ]
  },
  {
   "cell_type": "code",
   "execution_count": 57,
   "metadata": {
    "id": "QlJtuT84IYmC"
   },
   "outputs": [],
   "source": [
    "final_model = tf.keras.models.Sequential([\n",
    "    tf.keras.layers.LSTM(9, return_sequences=True),\n",
    "    tf.keras.layers.LSTM(9, return_sequences=True),\n",
    "    tf.keras.layers.LSTM(9, return_sequences=True),\n",
    "    tf.keras.layers.LSTM(3),\n",
    "    tf.keras.layers.Dense(units=10),\n",
    "    tf.keras.layers.Dense(units=1)\n",
    "])"
   ]
  },
  {
   "cell_type": "code",
   "execution_count": 59,
   "metadata": {
    "colab": {
     "base_uri": "https://localhost:8080/"
    },
    "id": "5XOoGzufIaD4",
    "outputId": "7ff99f1e-f61c-40e1-ab9b-08665f6818e7"
   },
   "outputs": [
    {
     "name": "stdout",
     "output_type": "stream",
     "text": [
      "Epoch 1/50\n",
      "893/893 [==============================] - 24s 21ms/step - loss: 0.1599 - mean_absolute_error: 0.2624 - val_loss: 0.1055 - val_mean_absolute_error: 0.2254\n",
      "Epoch 2/50\n",
      "893/893 [==============================] - 17s 19ms/step - loss: 0.1519 - mean_absolute_error: 0.2544 - val_loss: 0.1036 - val_mean_absolute_error: 0.2228\n",
      "Epoch 3/50\n",
      "893/893 [==============================] - 16s 18ms/step - loss: 0.1470 - mean_absolute_error: 0.2487 - val_loss: 0.1036 - val_mean_absolute_error: 0.2229\n",
      "Epoch 4/50\n",
      "893/893 [==============================] - 17s 19ms/step - loss: 0.1414 - mean_absolute_error: 0.2434 - val_loss: 0.0984 - val_mean_absolute_error: 0.2136\n",
      "Epoch 5/50\n",
      "893/893 [==============================] - 17s 19ms/step - loss: 0.1383 - mean_absolute_error: 0.2404 - val_loss: 0.1044 - val_mean_absolute_error: 0.2219\n",
      "Epoch 6/50\n",
      "893/893 [==============================] - 17s 19ms/step - loss: 0.1342 - mean_absolute_error: 0.2366 - val_loss: 0.0917 - val_mean_absolute_error: 0.2098\n",
      "Epoch 7/50\n",
      "893/893 [==============================] - 17s 19ms/step - loss: 0.1316 - mean_absolute_error: 0.2330 - val_loss: 0.0913 - val_mean_absolute_error: 0.2102\n",
      "Epoch 8/50\n",
      "893/893 [==============================] - 17s 19ms/step - loss: 0.1286 - mean_absolute_error: 0.2305 - val_loss: 0.0919 - val_mean_absolute_error: 0.2127\n",
      "Epoch 9/50\n",
      "893/893 [==============================] - 17s 19ms/step - loss: 0.1271 - mean_absolute_error: 0.2289 - val_loss: 0.0887 - val_mean_absolute_error: 0.2060\n",
      "Epoch 10/50\n",
      "893/893 [==============================] - 17s 19ms/step - loss: 0.1244 - mean_absolute_error: 0.2268 - val_loss: 0.0938 - val_mean_absolute_error: 0.2095\n",
      "Epoch 11/50\n",
      "893/893 [==============================] - 17s 19ms/step - loss: 0.1227 - mean_absolute_error: 0.2254 - val_loss: 0.0904 - val_mean_absolute_error: 0.2068\n",
      "Epoch 12/50\n",
      "893/893 [==============================] - 17s 19ms/step - loss: 0.1188 - mean_absolute_error: 0.2219 - val_loss: 0.0873 - val_mean_absolute_error: 0.2031\n",
      "Epoch 13/50\n",
      "893/893 [==============================] - 17s 19ms/step - loss: 0.1188 - mean_absolute_error: 0.2215 - val_loss: 0.0971 - val_mean_absolute_error: 0.2132\n",
      "Epoch 14/50\n",
      "893/893 [==============================] - 17s 19ms/step - loss: 0.1179 - mean_absolute_error: 0.2210 - val_loss: 0.0913 - val_mean_absolute_error: 0.2067\n",
      "Epoch 15/50\n",
      "893/893 [==============================] - 17s 19ms/step - loss: 0.1158 - mean_absolute_error: 0.2188 - val_loss: 0.0864 - val_mean_absolute_error: 0.2021\n",
      "Epoch 16/50\n",
      "893/893 [==============================] - 17s 19ms/step - loss: 0.1149 - mean_absolute_error: 0.2180 - val_loss: 0.0909 - val_mean_absolute_error: 0.2037\n",
      "Epoch 17/50\n",
      "893/893 [==============================] - 17s 19ms/step - loss: 0.1142 - mean_absolute_error: 0.2168 - val_loss: 0.0843 - val_mean_absolute_error: 0.1980\n",
      "Epoch 18/50\n",
      "893/893 [==============================] - 17s 19ms/step - loss: 0.1125 - mean_absolute_error: 0.2154 - val_loss: 0.0774 - val_mean_absolute_error: 0.1923\n",
      "Epoch 19/50\n",
      "893/893 [==============================] - 17s 19ms/step - loss: 0.1107 - mean_absolute_error: 0.2138 - val_loss: 0.0859 - val_mean_absolute_error: 0.1979\n",
      "Epoch 20/50\n",
      "893/893 [==============================] - 17s 19ms/step - loss: 0.1100 - mean_absolute_error: 0.2128 - val_loss: 0.0845 - val_mean_absolute_error: 0.1943\n",
      "Epoch 21/50\n",
      "893/893 [==============================] - 17s 19ms/step - loss: 0.1087 - mean_absolute_error: 0.2115 - val_loss: 0.0758 - val_mean_absolute_error: 0.1901\n",
      "Epoch 22/50\n",
      "893/893 [==============================] - 17s 19ms/step - loss: 0.1086 - mean_absolute_error: 0.2114 - val_loss: 0.0786 - val_mean_absolute_error: 0.1888\n",
      "Epoch 23/50\n",
      "893/893 [==============================] - 17s 19ms/step - loss: 0.1073 - mean_absolute_error: 0.2099 - val_loss: 0.0853 - val_mean_absolute_error: 0.1960\n",
      "Epoch 24/50\n",
      "893/893 [==============================] - 17s 19ms/step - loss: 0.1067 - mean_absolute_error: 0.2097 - val_loss: 0.0884 - val_mean_absolute_error: 0.1995\n",
      "Epoch 25/50\n",
      "893/893 [==============================] - 17s 18ms/step - loss: 0.1065 - mean_absolute_error: 0.2092 - val_loss: 0.0785 - val_mean_absolute_error: 0.1888\n",
      "Epoch 26/50\n",
      "893/893 [==============================] - 17s 19ms/step - loss: 0.1046 - mean_absolute_error: 0.2075 - val_loss: 0.0821 - val_mean_absolute_error: 0.1951\n",
      "Epoch 27/50\n",
      "893/893 [==============================] - 17s 19ms/step - loss: 0.1052 - mean_absolute_error: 0.2075 - val_loss: 0.0906 - val_mean_absolute_error: 0.1966\n",
      "Epoch 28/50\n",
      "893/893 [==============================] - 17s 19ms/step - loss: 0.1041 - mean_absolute_error: 0.2064 - val_loss: 0.0794 - val_mean_absolute_error: 0.1886\n",
      "Epoch 29/50\n",
      "893/893 [==============================] - 17s 19ms/step - loss: 0.1023 - mean_absolute_error: 0.2051 - val_loss: 0.0812 - val_mean_absolute_error: 0.1882\n",
      "Epoch 30/50\n",
      "893/893 [==============================] - 17s 18ms/step - loss: 0.1022 - mean_absolute_error: 0.2048 - val_loss: 0.0857 - val_mean_absolute_error: 0.1924\n",
      "Epoch 31/50\n",
      "893/893 [==============================] - 17s 19ms/step - loss: 0.1014 - mean_absolute_error: 0.2036 - val_loss: 0.0748 - val_mean_absolute_error: 0.1844\n",
      "Epoch 32/50\n",
      "893/893 [==============================] - 17s 19ms/step - loss: 0.1018 - mean_absolute_error: 0.2040 - val_loss: 0.0811 - val_mean_absolute_error: 0.1970\n",
      "Epoch 33/50\n",
      "893/893 [==============================] - 17s 19ms/step - loss: 0.1010 - mean_absolute_error: 0.2034 - val_loss: 0.0719 - val_mean_absolute_error: 0.1810\n",
      "Epoch 34/50\n",
      "893/893 [==============================] - 17s 19ms/step - loss: 0.0993 - mean_absolute_error: 0.2023 - val_loss: 0.0678 - val_mean_absolute_error: 0.1788\n",
      "Epoch 35/50\n",
      "893/893 [==============================] - 17s 19ms/step - loss: 0.0997 - mean_absolute_error: 0.2019 - val_loss: 0.0713 - val_mean_absolute_error: 0.1823\n",
      "Epoch 36/50\n",
      "893/893 [==============================] - 17s 19ms/step - loss: 0.0994 - mean_absolute_error: 0.2011 - val_loss: 0.0779 - val_mean_absolute_error: 0.1909\n",
      "Epoch 37/50\n",
      "893/893 [==============================] - 17s 19ms/step - loss: 0.0971 - mean_absolute_error: 0.1997 - val_loss: 0.0747 - val_mean_absolute_error: 0.1895\n",
      "Epoch 38/50\n",
      "893/893 [==============================] - 17s 19ms/step - loss: 0.0985 - mean_absolute_error: 0.2009 - val_loss: 0.0728 - val_mean_absolute_error: 0.1812\n",
      "Epoch 39/50\n",
      "893/893 [==============================] - 17s 19ms/step - loss: 0.0971 - mean_absolute_error: 0.1994 - val_loss: 0.0774 - val_mean_absolute_error: 0.1886\n",
      "Epoch 40/50\n",
      "893/893 [==============================] - 17s 19ms/step - loss: 0.0974 - mean_absolute_error: 0.1997 - val_loss: 0.0710 - val_mean_absolute_error: 0.1795\n",
      "Epoch 41/50\n",
      "893/893 [==============================] - 17s 19ms/step - loss: 0.0960 - mean_absolute_error: 0.1982 - val_loss: 0.0719 - val_mean_absolute_error: 0.1824\n",
      "Epoch 42/50\n",
      "893/893 [==============================] - 17s 18ms/step - loss: 0.0953 - mean_absolute_error: 0.1976 - val_loss: 0.0751 - val_mean_absolute_error: 0.1852\n",
      "Epoch 43/50\n",
      "893/893 [==============================] - 17s 19ms/step - loss: 0.0947 - mean_absolute_error: 0.1973 - val_loss: 0.0748 - val_mean_absolute_error: 0.1858\n",
      "Epoch 44/50\n",
      "893/893 [==============================] - 17s 19ms/step - loss: 0.0949 - mean_absolute_error: 0.1969 - val_loss: 0.0736 - val_mean_absolute_error: 0.1837\n",
      "Epoch 45/50\n",
      "893/893 [==============================] - 17s 19ms/step - loss: 0.0947 - mean_absolute_error: 0.1971 - val_loss: 0.0761 - val_mean_absolute_error: 0.1852\n",
      "Epoch 46/50\n",
      "893/893 [==============================] - 17s 19ms/step - loss: 0.0936 - mean_absolute_error: 0.1959 - val_loss: 0.0741 - val_mean_absolute_error: 0.1834\n",
      "Epoch 47/50\n",
      "893/893 [==============================] - 17s 19ms/step - loss: 0.0940 - mean_absolute_error: 0.1956 - val_loss: 0.0761 - val_mean_absolute_error: 0.1859\n",
      "Epoch 48/50\n",
      "893/893 [==============================] - 17s 19ms/step - loss: 0.0933 - mean_absolute_error: 0.1951 - val_loss: 0.0725 - val_mean_absolute_error: 0.1835\n",
      "Epoch 49/50\n",
      "893/893 [==============================] - 17s 19ms/step - loss: 0.0942 - mean_absolute_error: 0.1958 - val_loss: 0.0760 - val_mean_absolute_error: 0.1848\n",
      "Epoch 50/50\n",
      "893/893 [==============================] - 17s 19ms/step - loss: 0.0921 - mean_absolute_error: 0.1944 - val_loss: 0.0761 - val_mean_absolute_error: 0.1901\n"
     ]
    }
   ],
   "source": [
    "hist = compile_and_fit(final_model, window_7_1_3, 20, 50)"
   ]
  },
  {
   "cell_type": "code",
   "execution_count": 60,
   "metadata": {
    "colab": {
     "base_uri": "https://localhost:8080/",
     "height": 283
    },
    "id": "0hDGCmLy8U5r",
    "outputId": "663a7a37-166d-4cc4-acdd-6efc7b3c39f9"
   },
   "outputs": [
    {
     "data": {
      "image/png": "[encoded data removed]",
      "text/plain": [
       "<Figure size 432x288 with 1 Axes>"
      ]
     },
     "metadata": {
      "needs_background": "light"
     },
     "output_type": "display_data"
    }
   ],
   "source": [
    "plot_results(hist)"
   ]
  },
  {
   "cell_type": "code",
   "execution_count": 61,
   "metadata": {
    "id": "4Bh7tlPzrOZd"
   },
   "outputs": [],
   "source": [
    "make_predictions(final_model, window_7_1_3)"
   ]
  }
 ],
 "metadata": {
  "accelerator": "TPU",
  "colab": {
   "collapsed_sections": [],
   "machine_shape": "hm",
   "name": "Final_Project.ipynb",
   "provenance": []
  },
  "kernelspec": {
   "display_name": "Python 3",
   "language": "python",
   "name": "python3"
  },
  "language_info": {
   "codemirror_mode": {
    "name": "ipython",
    "version": 3
   },
   "file_extension": ".py",
   "mimetype": "text/x-python",
   "name": "python",
   "nbconvert_exporter": "python",
   "pygments_lexer": "ipython3",
   "version": "3.8.5"
  }
 },
 "nbformat": 4,
 "nbformat_minor": 1
}
